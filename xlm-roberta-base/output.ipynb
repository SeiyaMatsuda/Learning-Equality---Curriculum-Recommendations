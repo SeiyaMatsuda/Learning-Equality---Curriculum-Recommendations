{
 "cells": [
  {
   "cell_type": "code",
   "execution_count": 1,
   "metadata": {
    "tags": []
   },
   "outputs": [],
   "source": [
    "import polars as pl\n",
    "# import pandas as pd\n",
    "import tqdm\n",
    "import numpy as np"
   ]
  },
  {
   "cell_type": "code",
   "execution_count": 3,
   "metadata": {
    "tags": []
   },
   "outputs": [],
   "source": [
    "df = pl.read_csv('/root/workspace/Learning_Equality/xlm-roberta-base/oof_df.csv')"
   ]
  },
  {
   "cell_type": "code",
   "execution_count": 4,
   "metadata": {
    "tags": []
   },
   "outputs": [],
   "source": [
    "correlations_df = pl.read_csv('../data/row/correlations.csv')"
   ]
  },
  {
   "cell_type": "code",
   "execution_count": 21,
   "metadata": {
    "tags": []
   },
   "outputs": [
    {
     "data": {
      "application/vnd.google.colaboratory.intrinsic+json": {
       "type": "string"
      },
      "text/plain": [
       "'c_005e793bd0c5 c_066737fa5146 c_08b2070f92e0 c_0a0f0cfcd01a c_0e3353b058f0 c_0eda77684335 c_0f16d374f415 c_10ca1869c758 c_10dbed87d839 c_11181d0b95aa c_115c5b863574 c_1cd9f807f8e5 c_1f20565b1381 c_222e318d6d8a c_29633da013a9 c_2cd238e941f1 c_30b3480d92f8 c_34bc70d326d5 c_3a12b23519f3 c_3a19935d0e70 c_3bc84cfa9818 c_3cf6ef1121e4 c_470dab588a4d c_48562a9fd7a5 c_4a017a7b88b1 c_5471bafde27d c_5838ba054863 c_5a3a979a3cd9 c_5bac5e027198 c_5f25b381c46a c_5f4b5200a725 c_6062d2e46506 c_60ec15e6b535 c_65e1a1125573 c_683bd6b717fa c_6a1b4e7d6de9 c_6a8228c8357e c_6aef7c2f724c c_6b9542168065 c_6f356bf86b85 c_6fee5dd33c0d c_7265b169bc76 c_738debbd624a c_7971ba5f03c4 c_7d1a59c7044d c_7e2f3739ad0a c_821fc6753fa7 c_8e29ba77df5b c_8ee98ffbb4ec c_91d5815c5c05 c_9520d0abdfe4 c_964f18665f78 c_97f7c60035ea c_a0133f95e907 c_a5545a2ff5ca c_a99a9622f854 c_b44c206ad756 c_b578b555904e c_b6819b9c64df c_b92a55cf1879 c_bebd175342f5 c_bef2c010d6f9 c_bef55777e57b c_c69fc19ab8f2 c_cef9b08c48c4 c_d2cf189bb4ac c_d32102fb335f c_d4f5b6340aa5 c_d5606463f08a c_d937c1b35bc7 c_dcf907ded334 c_def28d2e5eb0 c_df2bcd9b6fcc c_e0b33b9e6118 c_e4262edc8daf c_e7daeadb242c c_e91ac93a2ea4 c_ebde478f5297 c_ecbdf2bb815b c_ee6367296721 c_f16047c6f924 c_f32779fd55bb c_f42f83d45a20 c_f567bb93578f c_f56f6d8aef05 c_f9091a48e912 c_fbd300d2cc72'"
      ]
     },
     "execution_count": 21,
     "metadata": {},
     "output_type": "execute_result"
    }
   ],
   "source": [
    "correlations_df[8, 'content_ids']"
   ]
  },
  {
   "cell_type": "code",
   "execution_count": 6,
   "metadata": {
    "tags": []
   },
   "outputs": [
    {
     "name": "stderr",
     "output_type": "stream",
     "text": [
      "100%|██████████| 12303/12303 [00:14<00:00, 832.46it/s]\n"
     ]
    }
   ],
   "source": [
    "labels = []\n",
    "for idx, df_ in tqdm.tqdm(df.groupby('topic_id'), total = len(df.unique(subset=[\"topic_id\"]))):\n",
    "    topic_id = idx\n",
    "    content_ids = df_['content_id'].to_numpy()\n",
    "    isin_list = np.array(correlations_df.filter(pl.col(\"topic_id\")==topic_id)['content_ids'].item().split(' '))\n",
    "    label = np.isin(content_ids, isin_list)\n",
    "    labels.extend(label)"
   ]
  },
  {
   "cell_type": "code",
   "execution_count": 9,
   "metadata": {
    "tags": []
   },
   "outputs": [
    {
     "name": "stderr",
     "output_type": "stream",
     "text": [
      "<ipython-input-9-8088ab0c7b57>:1: DeprecationWarning: `with_column` has been deprecated in favor of `with_columns`. This method will be removed in version 0.17.0\n",
      "  df = df.with_column(\n"
     ]
    }
   ],
   "source": [
    "df = df.with_column(\n",
    "    pl.Series('label', labels)\n",
    ")"
   ]
  },
  {
   "cell_type": "code",
   "execution_count": 40,
   "metadata": {
    "tags": []
   },
   "outputs": [
    {
     "data": {
      "text/plain": [
       "array([[<matplotlib.axes._subplots.AxesSubplot object at 0x7f25acc7c3d0>,\n",
       "        <matplotlib.axes._subplots.AxesSubplot object at 0x7f25ac876370>],\n",
       "       [<matplotlib.axes._subplots.AxesSubplot object at 0x7f25ac81fac0>,\n",
       "        <matplotlib.axes._subplots.AxesSubplot object at 0x7f25ac7d6250>]],\n",
       "      dtype=object)"
      ]
     },
     "execution_count": 40,
     "metadata": {},
     "output_type": "execute_result"
    },
    {
     "data": {
      "image/png": "[encoded data removed]",
      "text/plain": [
       "<Figure size 432x288 with 4 Axes>"
      ]
     },
     "metadata": {
      "needs_background": "light"
     },
     "output_type": "display_data"
    }
   ],
   "source": [
    "df.filter(pl.col(\"predictions_proba\")>0.91).to_pandas().hist()"
   ]
  },
  {
   "cell_type": "code",
   "execution_count": 20,
   "metadata": {
    "tags": []
   },
   "outputs": [
    {
     "data": {
      "text/html": [
       "<div>\n",
       "<style>\n",
       ".pl-dataframe > thead > tr > th {\n",
       "  text-align: right;\n",
       "}\n",
       "</style>\n",
       "\n",
       "<table border=\"1\" class=\"pl-dataframe\">\n",
       "<small>shape: (61517, 2)</small>\n",
       "<thead>\n",
       "<tr>\n",
       "<th>\n",
       "topic_id\n",
       "</th>\n",
       "<th>\n",
       "content_ids\n",
       "</th>\n",
       "</tr>\n",
       "<tr>\n",
       "<td>\n",
       "str\n",
       "</td>\n",
       "<td>\n",
       "str\n",
       "</td>\n",
       "</tr>\n",
       "</thead>\n",
       "<tbody>\n",
       "<tr>\n",
       "<td>\n",
       "&quot;t_00004da3a1b2...\n",
       "</td>\n",
       "<td>\n",
       "&quot;c_1108dd0c7a5d...\n",
       "</td>\n",
       "</tr>\n",
       "<tr>\n",
       "<td>\n",
       "&quot;t_00068291e9a4...\n",
       "</td>\n",
       "<td>\n",
       "&quot;c_639ea2ef9c95...\n",
       "</td>\n",
       "</tr>\n",
       "<tr>\n",
       "<td>\n",
       "&quot;t_00069b63a70a...\n",
       "</td>\n",
       "<td>\n",
       "&quot;c_11a1dc0bfb99...\n",
       "</td>\n",
       "</tr>\n",
       "<tr>\n",
       "<td>\n",
       "&quot;t_0006d41a73a8...\n",
       "</td>\n",
       "<td>\n",
       "&quot;c_0c6473c3480d...\n",
       "</td>\n",
       "</tr>\n",
       "<tr>\n",
       "<td>\n",
       "&quot;t_0008768bdee6...\n",
       "</td>\n",
       "<td>\n",
       "&quot;c_34e1424229b4...\n",
       "</td>\n",
       "</tr>\n",
       "<tr>\n",
       "<td>\n",
       "&quot;t_0008a1bd84ba...\n",
       "</td>\n",
       "<td>\n",
       "&quot;c_7ff92a954a3d...\n",
       "</td>\n",
       "</tr>\n",
       "<tr>\n",
       "<td>\n",
       "&quot;t_000d1fb3f2f5...\n",
       "</td>\n",
       "<td>\n",
       "&quot;c_07f1d0eec4b2...\n",
       "</td>\n",
       "</tr>\n",
       "<tr>\n",
       "<td>\n",
       "&quot;t_000feba42136...\n",
       "</td>\n",
       "<td>\n",
       "&quot;c_2bbc650030f4...\n",
       "</td>\n",
       "</tr>\n",
       "<tr>\n",
       "<td>\n",
       "&quot;t_00102869fbcb...\n",
       "</td>\n",
       "<td>\n",
       "&quot;c_005e793bd0c5...\n",
       "</td>\n",
       "</tr>\n",
       "<tr>\n",
       "<td>\n",
       "&quot;t_0010852b7049...\n",
       "</td>\n",
       "<td>\n",
       "&quot;c_0baf72ed7e1e...\n",
       "</td>\n",
       "</tr>\n",
       "<tr>\n",
       "<td>\n",
       "&quot;t_0012a45fa09c...\n",
       "</td>\n",
       "<td>\n",
       "&quot;c_dde078b8ea7a...\n",
       "</td>\n",
       "</tr>\n",
       "<tr>\n",
       "<td>\n",
       "&quot;t_0014be0167f3...\n",
       "</td>\n",
       "<td>\n",
       "&quot;c_2ae5bd6b746a...\n",
       "</td>\n",
       "</tr>\n",
       "<tr>\n",
       "<td>\n",
       "...\n",
       "</td>\n",
       "<td>\n",
       "...\n",
       "</td>\n",
       "</tr>\n",
       "<tr>\n",
       "<td>\n",
       "&quot;t_fff1047917af...\n",
       "</td>\n",
       "<td>\n",
       "&quot;c_016def92802a...\n",
       "</td>\n",
       "</tr>\n",
       "<tr>\n",
       "<td>\n",
       "&quot;t_fff1f01cfeb0...\n",
       "</td>\n",
       "<td>\n",
       "&quot;c_6cbb967868c2...\n",
       "</td>\n",
       "</tr>\n",
       "<tr>\n",
       "<td>\n",
       "&quot;t_fff51448598c...\n",
       "</td>\n",
       "<td>\n",
       "&quot;c_054e15d2ff3f...\n",
       "</td>\n",
       "</tr>\n",
       "<tr>\n",
       "<td>\n",
       "&quot;t_fff5d93d4dc2...\n",
       "</td>\n",
       "<td>\n",
       "&quot;c_79903740e1e8...\n",
       "</td>\n",
       "</tr>\n",
       "<tr>\n",
       "<td>\n",
       "&quot;t_fff5da49c4d3...\n",
       "</td>\n",
       "<td>\n",
       "&quot;c_4a0305f5876d...\n",
       "</td>\n",
       "</tr>\n",
       "<tr>\n",
       "<td>\n",
       "&quot;t_fff7782561f4...\n",
       "</td>\n",
       "<td>\n",
       "&quot;c_bca8280a9ad1...\n",
       "</td>\n",
       "</tr>\n",
       "<tr>\n",
       "<td>\n",
       "&quot;t_fff7f2dd208b...\n",
       "</td>\n",
       "<td>\n",
       "&quot;c_036efdd9e8c1...\n",
       "</td>\n",
       "</tr>\n",
       "<tr>\n",
       "<td>\n",
       "&quot;t_fff830472691...\n",
       "</td>\n",
       "<td>\n",
       "&quot;c_61fb63326e5d...\n",
       "</td>\n",
       "</tr>\n",
       "<tr>\n",
       "<td>\n",
       "&quot;t_fff9e5407d13...\n",
       "</td>\n",
       "<td>\n",
       "&quot;c_026db653a269...\n",
       "</td>\n",
       "</tr>\n",
       "<tr>\n",
       "<td>\n",
       "&quot;t_fffbe1d5d43c...\n",
       "</td>\n",
       "<td>\n",
       "&quot;c_46f852a49c08...\n",
       "</td>\n",
       "</tr>\n",
       "<tr>\n",
       "<td>\n",
       "&quot;t_fffe14f1be1e...\n",
       "</td>\n",
       "<td>\n",
       "&quot;c_cece166bad6a...\n",
       "</td>\n",
       "</tr>\n",
       "<tr>\n",
       "<td>\n",
       "&quot;t_fffe811a6da9...\n",
       "</td>\n",
       "<td>\n",
       "&quot;c_92b8fad372ee...\n",
       "</td>\n",
       "</tr>\n",
       "</tbody>\n",
       "</table>\n",
       "</div>"
      ],
      "text/plain": [
       "shape: (61517, 2)\n",
       "┌────────────────┬─────────────────────────────────────┐\n",
       "│ topic_id       ┆ content_ids                         │\n",
       "│ ---            ┆ ---                                 │\n",
       "│ str            ┆ str                                 │\n",
       "╞════════════════╪═════════════════════════════════════╡\n",
       "│ t_00004da3a1b2 ┆ c_1108dd0c7a5d c_376c5a8eb028 c_... │\n",
       "│ t_00068291e9a4 ┆ c_639ea2ef9c95 c_89ce9367be10 c_... │\n",
       "│ t_00069b63a70a ┆ c_11a1dc0bfb99                      │\n",
       "│ t_0006d41a73a8 ┆ c_0c6473c3480d c_1c57a1316568 c_... │\n",
       "│ ...            ┆ ...                                 │\n",
       "│ t_fff9e5407d13 ┆ c_026db653a269 c_0fb048a6412c c_... │\n",
       "│ t_fffbe1d5d43c ┆ c_46f852a49c08 c_6659207b25d5       │\n",
       "│ t_fffe14f1be1e ┆ c_cece166bad6a                      │\n",
       "│ t_fffe811a6da9 ┆ c_92b8fad372ee                      │\n",
       "└────────────────┴─────────────────────────────────────┘"
      ]
     },
     "execution_count": 20,
     "metadata": {},
     "output_type": "execute_result"
    }
   ],
   "source": [
    "correlations_df"
   ]
  },
  {
   "cell_type": "code",
   "execution_count": null,
   "metadata": {},
   "outputs": [],
   "source": []
  }
 ],
 "metadata": {
  "kernelspec": {
   "display_name": "Python 3",
   "language": "python",
   "name": "python3"
  },
  "language_info": {
   "codemirror_mode": {
    "name": "ipython",
    "version": 3
   },
   "file_extension": ".py",
   "mimetype": "text/x-python",
   "name": "python",
   "nbconvert_exporter": "python",
   "pygments_lexer": "ipython3",
   "version": "3.8.10"
  },
  "vscode": {
   "interpreter": {
    "hash": "5b3ded1ccb95c1d9bd405e7b823d9e85424cde40fbb5985eb47e999ef50e15b4"
   }
  }
 },
 "nbformat": 4,
 "nbformat_minor": 4
}
