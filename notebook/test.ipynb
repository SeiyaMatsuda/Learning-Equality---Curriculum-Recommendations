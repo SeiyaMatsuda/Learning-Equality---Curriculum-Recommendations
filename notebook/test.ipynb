{
 "cells": [
  {
   "cell_type": "code",
   "execution_count": 1,
   "metadata": {},
   "outputs": [],
   "source": [
    "import polars as pl"
   ]
  },
  {
   "cell_type": "code",
   "execution_count": 2,
   "metadata": {},
   "outputs": [],
   "source": [
    "preds1 = pl.read_csv('/root/workspace/Learning_Equality/ensemble_3S1-4S2/oof_df_all-MiniLM-L6-v2.csv')\n",
    "preds2= pl.read_csv( '/root/workspace/Learning_Equality/ensemble_3S1-3S2/oof_df_paraphrase-multilingual-mpnet-base-v2.csv')\n",
    "preds3 = pl.read_csv( '/root/workspace/Learning_Equality/ensemble_3S1-3S2/oof_df_all-mpnet-base-v2.csv')"
   ]
  },
  {
   "cell_type": "code",
   "execution_count": 3,
   "metadata": {},
   "outputs": [],
   "source": [
    "correlations_df = pl.read_csv('/root/workspace/Learning_Equality/data/row/correlations.csv')"
   ]
  },
  {
   "cell_type": "code",
   "execution_count": 4,
   "metadata": {},
   "outputs": [
    {
     "data": {
      "text/html": [
       "<div>\n",
       "<style>\n",
       ".pl-dataframe > thead > tr > th {\n",
       "  text-align: right;\n",
       "}\n",
       "</style>\n",
       "\n",
       "<table border=\"1\" class=\"dataframe pl-dataframe\">\n",
       "<small>shape: (10, 2)</small>\n",
       "<thead>\n",
       "<tr>\n",
       "<th>\n",
       "topic_id\n",
       "</th>\n",
       "<th>\n",
       "content_ids\n",
       "</th>\n",
       "</tr>\n",
       "<tr>\n",
       "<td>\n",
       "str\n",
       "</td>\n",
       "<td>\n",
       "str\n",
       "</td>\n",
       "</tr>\n",
       "</thead>\n",
       "<tbody>\n",
       "<tr>\n",
       "<td>\n",
       "&quot;t_00004da3a1b2...\n",
       "</td>\n",
       "<td>\n",
       "&quot;c_1108dd0c7a5d...\n",
       "</td>\n",
       "</tr>\n",
       "<tr>\n",
       "<td>\n",
       "&quot;t_00068291e9a4...\n",
       "</td>\n",
       "<td>\n",
       "&quot;c_639ea2ef9c95...\n",
       "</td>\n",
       "</tr>\n",
       "<tr>\n",
       "<td>\n",
       "&quot;t_00069b63a70a...\n",
       "</td>\n",
       "<td>\n",
       "&quot;c_11a1dc0bfb99...\n",
       "</td>\n",
       "</tr>\n",
       "<tr>\n",
       "<td>\n",
       "&quot;t_0006d41a73a8...\n",
       "</td>\n",
       "<td>\n",
       "&quot;c_0c6473c3480d...\n",
       "</td>\n",
       "</tr>\n",
       "<tr>\n",
       "<td>\n",
       "&quot;t_0008768bdee6...\n",
       "</td>\n",
       "<td>\n",
       "&quot;c_34e1424229b4...\n",
       "</td>\n",
       "</tr>\n",
       "<tr>\n",
       "<td>\n",
       "&quot;t_0008a1bd84ba...\n",
       "</td>\n",
       "<td>\n",
       "&quot;c_7ff92a954a3d...\n",
       "</td>\n",
       "</tr>\n",
       "<tr>\n",
       "<td>\n",
       "&quot;t_000d1fb3f2f5...\n",
       "</td>\n",
       "<td>\n",
       "&quot;c_07f1d0eec4b2...\n",
       "</td>\n",
       "</tr>\n",
       "<tr>\n",
       "<td>\n",
       "&quot;t_000feba42136...\n",
       "</td>\n",
       "<td>\n",
       "&quot;c_2bbc650030f4...\n",
       "</td>\n",
       "</tr>\n",
       "<tr>\n",
       "<td>\n",
       "&quot;t_00102869fbcb...\n",
       "</td>\n",
       "<td>\n",
       "&quot;c_005e793bd0c5...\n",
       "</td>\n",
       "</tr>\n",
       "<tr>\n",
       "<td>\n",
       "&quot;t_0010852b7049...\n",
       "</td>\n",
       "<td>\n",
       "&quot;c_0baf72ed7e1e...\n",
       "</td>\n",
       "</tr>\n",
       "</tbody>\n",
       "</table>\n",
       "</div>"
      ],
      "text/plain": [
       "shape: (10, 2)\n",
       "┌────────────────┬─────────────────────────────────────┐\n",
       "│ topic_id       ┆ content_ids                         │\n",
       "│ ---            ┆ ---                                 │\n",
       "│ str            ┆ str                                 │\n",
       "╞════════════════╪═════════════════════════════════════╡\n",
       "│ t_00004da3a1b2 ┆ c_1108dd0c7a5d c_376c5a8eb028 c_... │\n",
       "│ t_00068291e9a4 ┆ c_639ea2ef9c95 c_89ce9367be10 c_... │\n",
       "│ t_00069b63a70a ┆ c_11a1dc0bfb99                      │\n",
       "│ t_0006d41a73a8 ┆ c_0c6473c3480d c_1c57a1316568 c_... │\n",
       "│ ...            ┆ ...                                 │\n",
       "│ t_000d1fb3f2f5 ┆ c_07f1d0eec4b2 c_15a6fb858696 c_... │\n",
       "│ t_000feba42136 ┆ c_2bbc650030f4 c_304ee4f59410       │\n",
       "│ t_00102869fbcb ┆ c_005e793bd0c5 c_066737fa5146 c_... │\n",
       "│ t_0010852b7049 ┆ c_0baf72ed7e1e c_5eca28e2cdb4 c_... │\n",
       "└────────────────┴─────────────────────────────────────┘"
      ]
     },
     "execution_count": 4,
     "metadata": {},
     "output_type": "execute_result"
    }
   ],
   "source": [
    "correlations_df.head(10)"
   ]
  },
  {
   "cell_type": "code",
   "execution_count": 80,
   "metadata": {},
   "outputs": [],
   "source": [
    "truth_contents = correlations_df['content_ids'].str.split(' ').to_list()\n",
    "topic_id =correlations_df['topic_id'].str.split(' ').to_list()"
   ]
  },
  {
   "cell_type": "code",
   "execution_count": 81,
   "metadata": {},
   "outputs": [],
   "source": [
    "dict = {t[0]:c for t,c in zip(topic_id, truth_contents)}\n",
    "target = preds1['topic_id'].apply(lambda x:dict[x])"
   ]
  },
  {
   "cell_type": "code",
   "execution_count": 82,
   "metadata": {},
   "outputs": [],
   "source": [
    "label = preds1['content_id'].is_in(target)"
   ]
  },
  {
   "cell_type": "code",
   "execution_count": 83,
   "metadata": {},
   "outputs": [
    {
     "name": "stderr",
     "output_type": "stream",
     "text": [
      "<ipython-input-83-40f10e3d8574>:1: DeprecationWarning: `DataFrame.with_column` has been renamed; this redirect is temporary, please use `.with_columns` instead\n",
      "  preds = preds1.with_column(\n"
     ]
    }
   ],
   "source": [
    "preds = preds1.with_column(\n",
    "    pl.Series('label', label)\n",
    ")"
   ]
  },
  {
   "cell_type": "code",
   "execution_count": 11,
   "metadata": {},
   "outputs": [],
   "source": [
    "preds_pd = preds.to_pandas()"
   ]
  },
  {
   "cell_type": "code",
   "execution_count": 14,
   "metadata": {},
   "outputs": [
    {
     "data": {
      "text/plain": [
       "<AxesSubplot:>"
      ]
     },
     "execution_count": 14,
     "metadata": {},
     "output_type": "execute_result"
    },
    {
     "data": {
      "image/png": "[encoded data removed]",
      "text/plain": [
       "<Figure size 432x288 with 1 Axes>"
      ]
     },
     "metadata": {
      "needs_background": "light"
     },
     "output_type": "display_data"
    }
   ],
   "source": [
    "preds_pd[preds_pd['label']==True].predictions_proba_roberta_large.hist()"
   ]
  },
  {
   "cell_type": "code",
   "execution_count": 74,
   "metadata": {},
   "outputs": [
    {
     "data": {
      "text/html": [
       "\n",
       "  <div id=\"df-506061bf-050a-4b8a-a2e2-140cdae17ade\">\n",
       "    <div class=\"colab-df-container\">\n",
       "      <div>\n",
       "<style scoped>\n",
       "    .dataframe tbody tr th:only-of-type {\n",
       "        vertical-align: middle;\n",
       "    }\n",
       "\n",
       "    .dataframe tbody tr th {\n",
       "        vertical-align: top;\n",
       "    }\n",
       "\n",
       "    .dataframe thead th {\n",
       "        text-align: right;\n",
       "    }\n",
       "</style>\n",
       "<table border=\"1\" class=\"dataframe\">\n",
       "  <thead>\n",
       "    <tr style=\"text-align: right;\">\n",
       "      <th></th>\n",
       "      <th>topic_id</th>\n",
       "      <th>content_id</th>\n",
       "      <th>topic_title</th>\n",
       "      <th>content_title</th>\n",
       "      <th>language</th>\n",
       "      <th>fold</th>\n",
       "      <th>predictions_proba_svm</th>\n",
       "      <th>predictions_proba_xgb</th>\n",
       "      <th>predictions_proba_roberta_large</th>\n",
       "      <th>predictions_proba_roberta_base</th>\n",
       "      <th>label</th>\n",
       "    </tr>\n",
       "  </thead>\n",
       "  <tbody>\n",
       "    <tr>\n",
       "      <th>700</th>\n",
       "      <td>t_007a41ee336d</td>\n",
       "      <td>c_1ae8805d8fe1</td>\n",
       "      <td>Definite Article</td>\n",
       "      <td>Definite Articles</td>\n",
       "      <td>en</td>\n",
       "      <td>0</td>\n",
       "      <td>0.919790</td>\n",
       "      <td>0.991775</td>\n",
       "      <td>0.952143</td>\n",
       "      <td>0.988921</td>\n",
       "      <td>True</td>\n",
       "    </tr>\n",
       "    <tr>\n",
       "      <th>701</th>\n",
       "      <td>t_007a41ee336d</td>\n",
       "      <td>c_bf1c34747494</td>\n",
       "      <td>Definite Article</td>\n",
       "      <td>The definite article</td>\n",
       "      <td>en</td>\n",
       "      <td>0</td>\n",
       "      <td>0.763671</td>\n",
       "      <td>0.960084</td>\n",
       "      <td>0.711118</td>\n",
       "      <td>0.940458</td>\n",
       "      <td>False</td>\n",
       "    </tr>\n",
       "    <tr>\n",
       "      <th>702</th>\n",
       "      <td>t_007a41ee336d</td>\n",
       "      <td>c_54384824bc83</td>\n",
       "      <td>Definite Article</td>\n",
       "      <td>Article</td>\n",
       "      <td>en</td>\n",
       "      <td>0</td>\n",
       "      <td>0.695077</td>\n",
       "      <td>0.656971</td>\n",
       "      <td>0.461248</td>\n",
       "      <td>0.145006</td>\n",
       "      <td>False</td>\n",
       "    </tr>\n",
       "    <tr>\n",
       "      <th>703</th>\n",
       "      <td>t_007a41ee336d</td>\n",
       "      <td>c_852e38e6d0b6</td>\n",
       "      <td>Definite Article</td>\n",
       "      <td>Articles</td>\n",
       "      <td>en</td>\n",
       "      <td>0</td>\n",
       "      <td>0.739565</td>\n",
       "      <td>0.580183</td>\n",
       "      <td>0.393732</td>\n",
       "      <td>0.068524</td>\n",
       "      <td>False</td>\n",
       "    </tr>\n",
       "    <tr>\n",
       "      <th>704</th>\n",
       "      <td>t_007a41ee336d</td>\n",
       "      <td>c_5ac40d916b94</td>\n",
       "      <td>Definite Article</td>\n",
       "      <td>Introduction to Articles</td>\n",
       "      <td>en</td>\n",
       "      <td>0</td>\n",
       "      <td>0.743101</td>\n",
       "      <td>0.896171</td>\n",
       "      <td>0.406970</td>\n",
       "      <td>0.083121</td>\n",
       "      <td>False</td>\n",
       "    </tr>\n",
       "    <tr>\n",
       "      <th>705</th>\n",
       "      <td>t_007a41ee336d</td>\n",
       "      <td>c_690f3caa8583</td>\n",
       "      <td>Definite Article</td>\n",
       "      <td>Definite and indefinite articles</td>\n",
       "      <td>en</td>\n",
       "      <td>0</td>\n",
       "      <td>0.373201</td>\n",
       "      <td>0.050855</td>\n",
       "      <td>0.456606</td>\n",
       "      <td>0.645550</td>\n",
       "      <td>False</td>\n",
       "    </tr>\n",
       "    <tr>\n",
       "      <th>706</th>\n",
       "      <td>t_007a41ee336d</td>\n",
       "      <td>c_03f198b1a62a</td>\n",
       "      <td>Definite Article</td>\n",
       "      <td>Indefinite articles</td>\n",
       "      <td>en</td>\n",
       "      <td>0</td>\n",
       "      <td>0.638831</td>\n",
       "      <td>0.533355</td>\n",
       "      <td>0.108801</td>\n",
       "      <td>0.760094</td>\n",
       "      <td>False</td>\n",
       "    </tr>\n",
       "    <tr>\n",
       "      <th>707</th>\n",
       "      <td>t_007a41ee336d</td>\n",
       "      <td>c_9e663f4d3e7c</td>\n",
       "      <td>Definite Article</td>\n",
       "      <td>Indefinite Articles</td>\n",
       "      <td>en</td>\n",
       "      <td>0</td>\n",
       "      <td>0.638831</td>\n",
       "      <td>0.533355</td>\n",
       "      <td>0.142788</td>\n",
       "      <td>0.910242</td>\n",
       "      <td>False</td>\n",
       "    </tr>\n",
       "    <tr>\n",
       "      <th>708</th>\n",
       "      <td>t_007a41ee336d</td>\n",
       "      <td>c_f6f8618be77b</td>\n",
       "      <td>Definite Article</td>\n",
       "      <td>News articles</td>\n",
       "      <td>en</td>\n",
       "      <td>0</td>\n",
       "      <td>0.536573</td>\n",
       "      <td>0.612458</td>\n",
       "      <td>0.059831</td>\n",
       "      <td>0.058792</td>\n",
       "      <td>False</td>\n",
       "    </tr>\n",
       "    <tr>\n",
       "      <th>709</th>\n",
       "      <td>t_007a41ee336d</td>\n",
       "      <td>c_91f868d13a5c</td>\n",
       "      <td>Definite Article</td>\n",
       "      <td>Articles Exercise</td>\n",
       "      <td>en</td>\n",
       "      <td>0</td>\n",
       "      <td>0.295280</td>\n",
       "      <td>0.016205</td>\n",
       "      <td>0.085189</td>\n",
       "      <td>0.005300</td>\n",
       "      <td>False</td>\n",
       "    </tr>\n",
       "    <tr>\n",
       "      <th>710</th>\n",
       "      <td>t_007a41ee336d</td>\n",
       "      <td>c_044a72f630db</td>\n",
       "      <td>Definite Article</td>\n",
       "      <td>Noun - Number</td>\n",
       "      <td>en</td>\n",
       "      <td>0</td>\n",
       "      <td>0.379722</td>\n",
       "      <td>0.007793</td>\n",
       "      <td>0.024968</td>\n",
       "      <td>0.099452</td>\n",
       "      <td>False</td>\n",
       "    </tr>\n",
       "    <tr>\n",
       "      <th>711</th>\n",
       "      <td>t_007a41ee336d</td>\n",
       "      <td>c_76f96567c9f6</td>\n",
       "      <td>Definite Article</td>\n",
       "      <td>Intro to articles</td>\n",
       "      <td>en</td>\n",
       "      <td>0</td>\n",
       "      <td>0.324157</td>\n",
       "      <td>0.008422</td>\n",
       "      <td>0.401044</td>\n",
       "      <td>0.041518</td>\n",
       "      <td>False</td>\n",
       "    </tr>\n",
       "    <tr>\n",
       "      <th>712</th>\n",
       "      <td>t_007a41ee336d</td>\n",
       "      <td>c_ad5505966e20</td>\n",
       "      <td>Definite Article</td>\n",
       "      <td>GRAMMAR  Articles (A, An,The)</td>\n",
       "      <td>en</td>\n",
       "      <td>0</td>\n",
       "      <td>0.468959</td>\n",
       "      <td>0.064843</td>\n",
       "      <td>0.015050</td>\n",
       "      <td>0.071167</td>\n",
       "      <td>False</td>\n",
       "    </tr>\n",
       "    <tr>\n",
       "      <th>713</th>\n",
       "      <td>t_007a41ee336d</td>\n",
       "      <td>c_ec0520e86c40</td>\n",
       "      <td>Definite Article</td>\n",
       "      <td>Articles</td>\n",
       "      <td>en</td>\n",
       "      <td>0</td>\n",
       "      <td>0.336215</td>\n",
       "      <td>0.009518</td>\n",
       "      <td>0.393732</td>\n",
       "      <td>0.068524</td>\n",
       "      <td>False</td>\n",
       "    </tr>\n",
       "    <tr>\n",
       "      <th>714</th>\n",
       "      <td>t_007a41ee336d</td>\n",
       "      <td>c_3ac86daff44c</td>\n",
       "      <td>Definite Article</td>\n",
       "      <td>Subject Verb Agreement Golden Rule</td>\n",
       "      <td>en</td>\n",
       "      <td>0</td>\n",
       "      <td>0.358219</td>\n",
       "      <td>0.080528</td>\n",
       "      <td>0.008854</td>\n",
       "      <td>0.021817</td>\n",
       "      <td>False</td>\n",
       "    </tr>\n",
       "    <tr>\n",
       "      <th>715</th>\n",
       "      <td>t_007a41ee336d</td>\n",
       "      <td>c_f209def9e1f2</td>\n",
       "      <td>Definite Article</td>\n",
       "      <td>Choosing between definite and indefinite articles</td>\n",
       "      <td>en</td>\n",
       "      <td>0</td>\n",
       "      <td>0.550677</td>\n",
       "      <td>0.020753</td>\n",
       "      <td>0.361390</td>\n",
       "      <td>0.460085</td>\n",
       "      <td>False</td>\n",
       "    </tr>\n",
       "    <tr>\n",
       "      <th>716</th>\n",
       "      <td>t_007a41ee336d</td>\n",
       "      <td>c_2cef92a07f37</td>\n",
       "      <td>Definite Article</td>\n",
       "      <td>Definite and indefinite articles</td>\n",
       "      <td>en</td>\n",
       "      <td>0</td>\n",
       "      <td>0.313007</td>\n",
       "      <td>0.003969</td>\n",
       "      <td>0.456606</td>\n",
       "      <td>0.645550</td>\n",
       "      <td>False</td>\n",
       "    </tr>\n",
       "    <tr>\n",
       "      <th>717</th>\n",
       "      <td>t_007a41ee336d</td>\n",
       "      <td>c_986f5a4587d0</td>\n",
       "      <td>Definite Article</td>\n",
       "      <td>Newspaper articles Exercise</td>\n",
       "      <td>en</td>\n",
       "      <td>0</td>\n",
       "      <td>0.294731</td>\n",
       "      <td>0.009336</td>\n",
       "      <td>0.008146</td>\n",
       "      <td>0.005844</td>\n",
       "      <td>False</td>\n",
       "    </tr>\n",
       "    <tr>\n",
       "      <th>718</th>\n",
       "      <td>t_007a41ee336d</td>\n",
       "      <td>c_f4e748041611</td>\n",
       "      <td>Definite Article</td>\n",
       "      <td>Gr 4 Articles pdf</td>\n",
       "      <td>en</td>\n",
       "      <td>0</td>\n",
       "      <td>0.298432</td>\n",
       "      <td>0.003267</td>\n",
       "      <td>0.037203</td>\n",
       "      <td>0.038727</td>\n",
       "      <td>False</td>\n",
       "    </tr>\n",
       "    <tr>\n",
       "      <th>719</th>\n",
       "      <td>t_007a41ee336d</td>\n",
       "      <td>c_9e4eb784bd17</td>\n",
       "      <td>Definite Article</td>\n",
       "      <td>Noun - Case</td>\n",
       "      <td>en</td>\n",
       "      <td>0</td>\n",
       "      <td>0.425658</td>\n",
       "      <td>0.001891</td>\n",
       "      <td>0.035121</td>\n",
       "      <td>0.056560</td>\n",
       "      <td>False</td>\n",
       "    </tr>\n",
       "    <tr>\n",
       "      <th>720</th>\n",
       "      <td>t_007a41ee336d</td>\n",
       "      <td>c_cd878a3ec563</td>\n",
       "      <td>Definite Article</td>\n",
       "      <td>The difference between the group means</td>\n",
       "      <td>en</td>\n",
       "      <td>0</td>\n",
       "      <td>0.348692</td>\n",
       "      <td>0.020854</td>\n",
       "      <td>0.023429</td>\n",
       "      <td>0.040065</td>\n",
       "      <td>False</td>\n",
       "    </tr>\n",
       "    <tr>\n",
       "      <th>721</th>\n",
       "      <td>t_007a41ee336d</td>\n",
       "      <td>c_49a3a3278019</td>\n",
       "      <td>Definite Article</td>\n",
       "      <td>Intro to articles</td>\n",
       "      <td>en</td>\n",
       "      <td>0</td>\n",
       "      <td>0.350417</td>\n",
       "      <td>0.001697</td>\n",
       "      <td>0.401044</td>\n",
       "      <td>0.041518</td>\n",
       "      <td>False</td>\n",
       "    </tr>\n",
       "    <tr>\n",
       "      <th>722</th>\n",
       "      <td>t_007a41ee336d</td>\n",
       "      <td>c_22f687caec45</td>\n",
       "      <td>Definite Article</td>\n",
       "      <td>Person and number</td>\n",
       "      <td>en</td>\n",
       "      <td>0</td>\n",
       "      <td>0.401005</td>\n",
       "      <td>0.009176</td>\n",
       "      <td>0.035229</td>\n",
       "      <td>0.077708</td>\n",
       "      <td>False</td>\n",
       "    </tr>\n",
       "    <tr>\n",
       "      <th>723</th>\n",
       "      <td>t_007a41ee336d</td>\n",
       "      <td>c_b0dab52d80f0</td>\n",
       "      <td>Definite Article</td>\n",
       "      <td>Newspaper article Exercise</td>\n",
       "      <td>en</td>\n",
       "      <td>0</td>\n",
       "      <td>0.236434</td>\n",
       "      <td>0.010088</td>\n",
       "      <td>0.003741</td>\n",
       "      <td>0.004807</td>\n",
       "      <td>False</td>\n",
       "    </tr>\n",
       "    <tr>\n",
       "      <th>724</th>\n",
       "      <td>t_007a41ee336d</td>\n",
       "      <td>c_9ec3e5e2f457</td>\n",
       "      <td>Definite Article</td>\n",
       "      <td>Repetition of Articles</td>\n",
       "      <td>en</td>\n",
       "      <td>0</td>\n",
       "      <td>0.591409</td>\n",
       "      <td>0.442609</td>\n",
       "      <td>0.151790</td>\n",
       "      <td>0.050824</td>\n",
       "      <td>False</td>\n",
       "    </tr>\n",
       "    <tr>\n",
       "      <th>725</th>\n",
       "      <td>t_007a41ee336d</td>\n",
       "      <td>c_8b541b9ff3b9</td>\n",
       "      <td>Definite Article</td>\n",
       "      <td>Gr 4 Articles</td>\n",
       "      <td>en</td>\n",
       "      <td>0</td>\n",
       "      <td>0.249261</td>\n",
       "      <td>0.003225</td>\n",
       "      <td>0.078039</td>\n",
       "      <td>0.096099</td>\n",
       "      <td>False</td>\n",
       "    </tr>\n",
       "    <tr>\n",
       "      <th>726</th>\n",
       "      <td>t_007a41ee336d</td>\n",
       "      <td>c_f8f0ee1dab3f</td>\n",
       "      <td>Definite Article</td>\n",
       "      <td>Introduction to Nouns1</td>\n",
       "      <td>en</td>\n",
       "      <td>0</td>\n",
       "      <td>0.446690</td>\n",
       "      <td>0.000477</td>\n",
       "      <td>0.008840</td>\n",
       "      <td>0.024188</td>\n",
       "      <td>False</td>\n",
       "    </tr>\n",
       "    <tr>\n",
       "      <th>727</th>\n",
       "      <td>t_007a41ee336d</td>\n",
       "      <td>c_496c30230b0d</td>\n",
       "      <td>Definite Article</td>\n",
       "      <td>Noun revision with Abstract and Concrete Nouns</td>\n",
       "      <td>en</td>\n",
       "      <td>0</td>\n",
       "      <td>0.430424</td>\n",
       "      <td>0.001780</td>\n",
       "      <td>0.004345</td>\n",
       "      <td>0.038865</td>\n",
       "      <td>False</td>\n",
       "    </tr>\n",
       "    <tr>\n",
       "      <th>728</th>\n",
       "      <td>t_007a41ee336d</td>\n",
       "      <td>c_0e5d69129cfb</td>\n",
       "      <td>Definite Article</td>\n",
       "      <td>The Verb - Persons and Numbers</td>\n",
       "      <td>en</td>\n",
       "      <td>0</td>\n",
       "      <td>0.299379</td>\n",
       "      <td>0.000382</td>\n",
       "      <td>0.019042</td>\n",
       "      <td>0.042659</td>\n",
       "      <td>False</td>\n",
       "    </tr>\n",
       "    <tr>\n",
       "      <th>729</th>\n",
       "      <td>t_007a41ee336d</td>\n",
       "      <td>c_21afb13846b0</td>\n",
       "      <td>Definite Article</td>\n",
       "      <td>Kinds of Nouns1</td>\n",
       "      <td>en</td>\n",
       "      <td>0</td>\n",
       "      <td>0.415175</td>\n",
       "      <td>0.001186</td>\n",
       "      <td>0.062547</td>\n",
       "      <td>0.005743</td>\n",
       "      <td>False</td>\n",
       "    </tr>\n",
       "    <tr>\n",
       "      <th>730</th>\n",
       "      <td>t_007a41ee336d</td>\n",
       "      <td>c_5c568ae2dde7</td>\n",
       "      <td>Definite Article</td>\n",
       "      <td>Kinds of Nouns2</td>\n",
       "      <td>en</td>\n",
       "      <td>0</td>\n",
       "      <td>0.406147</td>\n",
       "      <td>0.002211</td>\n",
       "      <td>0.060882</td>\n",
       "      <td>0.005687</td>\n",
       "      <td>False</td>\n",
       "    </tr>\n",
       "    <tr>\n",
       "      <th>731</th>\n",
       "      <td>t_007a41ee336d</td>\n",
       "      <td>c_182dd67de9c2</td>\n",
       "      <td>Definite Article</td>\n",
       "      <td>Noun - Gender</td>\n",
       "      <td>en</td>\n",
       "      <td>0</td>\n",
       "      <td>0.438969</td>\n",
       "      <td>0.000591</td>\n",
       "      <td>0.044060</td>\n",
       "      <td>0.109021</td>\n",
       "      <td>False</td>\n",
       "    </tr>\n",
       "    <tr>\n",
       "      <th>732</th>\n",
       "      <td>t_007a41ee336d</td>\n",
       "      <td>c_12d401978750</td>\n",
       "      <td>Definite Article</td>\n",
       "      <td>Introduction to Nouns</td>\n",
       "      <td>en</td>\n",
       "      <td>0</td>\n",
       "      <td>0.454224</td>\n",
       "      <td>0.000476</td>\n",
       "      <td>0.012746</td>\n",
       "      <td>0.046772</td>\n",
       "      <td>False</td>\n",
       "    </tr>\n",
       "    <tr>\n",
       "      <th>733</th>\n",
       "      <td>t_007a41ee336d</td>\n",
       "      <td>c_68b571a93ade</td>\n",
       "      <td>Definite Article</td>\n",
       "      <td>Kinds of Nouns</td>\n",
       "      <td>en</td>\n",
       "      <td>0</td>\n",
       "      <td>0.432773</td>\n",
       "      <td>0.001643</td>\n",
       "      <td>0.059208</td>\n",
       "      <td>0.012175</td>\n",
       "      <td>False</td>\n",
       "    </tr>\n",
       "    <tr>\n",
       "      <th>734</th>\n",
       "      <td>t_007a41ee336d</td>\n",
       "      <td>c_3395cfc387e5</td>\n",
       "      <td>Definite Article</td>\n",
       "      <td>Common and Proper  Nouns</td>\n",
       "      <td>en</td>\n",
       "      <td>0</td>\n",
       "      <td>0.356777</td>\n",
       "      <td>0.001154</td>\n",
       "      <td>0.018234</td>\n",
       "      <td>0.101205</td>\n",
       "      <td>False</td>\n",
       "    </tr>\n",
       "    <tr>\n",
       "      <th>735</th>\n",
       "      <td>t_007a41ee336d</td>\n",
       "      <td>c_adc5999a52b2</td>\n",
       "      <td>Definite Article</td>\n",
       "      <td>Common and Proper Nouns</td>\n",
       "      <td>en</td>\n",
       "      <td>0</td>\n",
       "      <td>0.356777</td>\n",
       "      <td>0.001154</td>\n",
       "      <td>0.018234</td>\n",
       "      <td>0.101205</td>\n",
       "      <td>False</td>\n",
       "    </tr>\n",
       "    <tr>\n",
       "      <th>736</th>\n",
       "      <td>t_007a41ee336d</td>\n",
       "      <td>c_feedf7e213bf</td>\n",
       "      <td>Definite Article</td>\n",
       "      <td>Common and proper nouns</td>\n",
       "      <td>en</td>\n",
       "      <td>0</td>\n",
       "      <td>0.356777</td>\n",
       "      <td>0.001154</td>\n",
       "      <td>0.023477</td>\n",
       "      <td>0.032356</td>\n",
       "      <td>False</td>\n",
       "    </tr>\n",
       "    <tr>\n",
       "      <th>737</th>\n",
       "      <td>t_007a41ee336d</td>\n",
       "      <td>c_9d85c4468fc5</td>\n",
       "      <td>Definite Article</td>\n",
       "      <td>Headline</td>\n",
       "      <td>en</td>\n",
       "      <td>0</td>\n",
       "      <td>0.467949</td>\n",
       "      <td>0.074653</td>\n",
       "      <td>0.185651</td>\n",
       "      <td>0.110008</td>\n",
       "      <td>False</td>\n",
       "    </tr>\n",
       "    <tr>\n",
       "      <th>738</th>\n",
       "      <td>t_007a41ee336d</td>\n",
       "      <td>c_2e2d6f350352</td>\n",
       "      <td>Definite Article</td>\n",
       "      <td>Individual and collective nouns</td>\n",
       "      <td>en</td>\n",
       "      <td>0</td>\n",
       "      <td>0.404974</td>\n",
       "      <td>0.000127</td>\n",
       "      <td>0.012064</td>\n",
       "      <td>0.014091</td>\n",
       "      <td>False</td>\n",
       "    </tr>\n",
       "    <tr>\n",
       "      <th>739</th>\n",
       "      <td>t_007a41ee336d</td>\n",
       "      <td>c_f7c879ddbda3</td>\n",
       "      <td>Definite Article</td>\n",
       "      <td>Countable and uncountable nouns exercise</td>\n",
       "      <td>en</td>\n",
       "      <td>0</td>\n",
       "      <td>0.170948</td>\n",
       "      <td>0.000131</td>\n",
       "      <td>0.000703</td>\n",
       "      <td>0.011768</td>\n",
       "      <td>False</td>\n",
       "    </tr>\n",
       "    <tr>\n",
       "      <th>740</th>\n",
       "      <td>t_007a41ee336d</td>\n",
       "      <td>c_bc888350ce86</td>\n",
       "      <td>Definite Article</td>\n",
       "      <td>Difference between WHO and WHOM</td>\n",
       "      <td>en</td>\n",
       "      <td>0</td>\n",
       "      <td>0.404482</td>\n",
       "      <td>0.002066</td>\n",
       "      <td>0.059365</td>\n",
       "      <td>0.063886</td>\n",
       "      <td>False</td>\n",
       "    </tr>\n",
       "    <tr>\n",
       "      <th>741</th>\n",
       "      <td>t_007a41ee336d</td>\n",
       "      <td>c_0d70900600c8</td>\n",
       "      <td>Definite Article</td>\n",
       "      <td>Subject - Verb - Concord</td>\n",
       "      <td>en</td>\n",
       "      <td>0</td>\n",
       "      <td>0.405467</td>\n",
       "      <td>0.012803</td>\n",
       "      <td>0.066978</td>\n",
       "      <td>0.106798</td>\n",
       "      <td>False</td>\n",
       "    </tr>\n",
       "    <tr>\n",
       "      <th>742</th>\n",
       "      <td>t_007a41ee336d</td>\n",
       "      <td>c_7ff4a54bfe64</td>\n",
       "      <td>Definite Article</td>\n",
       "      <td>Introduction to nouns</td>\n",
       "      <td>en</td>\n",
       "      <td>0</td>\n",
       "      <td>0.243497</td>\n",
       "      <td>0.001066</td>\n",
       "      <td>0.007214</td>\n",
       "      <td>0.038776</td>\n",
       "      <td>False</td>\n",
       "    </tr>\n",
       "    <tr>\n",
       "      <th>743</th>\n",
       "      <td>t_007a41ee336d</td>\n",
       "      <td>c_0ac9a03c44a5</td>\n",
       "      <td>Definite Article</td>\n",
       "      <td>Glossary</td>\n",
       "      <td>en</td>\n",
       "      <td>0</td>\n",
       "      <td>0.322033</td>\n",
       "      <td>0.002301</td>\n",
       "      <td>0.058504</td>\n",
       "      <td>0.159890</td>\n",
       "      <td>False</td>\n",
       "    </tr>\n",
       "    <tr>\n",
       "      <th>744</th>\n",
       "      <td>t_007a41ee336d</td>\n",
       "      <td>c_257a1e069a35</td>\n",
       "      <td>Definite Article</td>\n",
       "      <td>Gr 5 Common and Proper Nouns</td>\n",
       "      <td>en</td>\n",
       "      <td>0</td>\n",
       "      <td>0.220235</td>\n",
       "      <td>0.000227</td>\n",
       "      <td>0.009320</td>\n",
       "      <td>0.046529</td>\n",
       "      <td>False</td>\n",
       "    </tr>\n",
       "    <tr>\n",
       "      <th>745</th>\n",
       "      <td>t_007a41ee336d</td>\n",
       "      <td>c_82e2b363f7cb</td>\n",
       "      <td>Definite Article</td>\n",
       "      <td>Common and Proper Nouns Exercise</td>\n",
       "      <td>en</td>\n",
       "      <td>0</td>\n",
       "      <td>0.225452</td>\n",
       "      <td>0.000512</td>\n",
       "      <td>0.000602</td>\n",
       "      <td>0.003673</td>\n",
       "      <td>False</td>\n",
       "    </tr>\n",
       "    <tr>\n",
       "      <th>746</th>\n",
       "      <td>t_007a41ee336d</td>\n",
       "      <td>c_32a20914bccc</td>\n",
       "      <td>Definite Article</td>\n",
       "      <td>Degrees of Comparison</td>\n",
       "      <td>en</td>\n",
       "      <td>0</td>\n",
       "      <td>0.222185</td>\n",
       "      <td>0.001081</td>\n",
       "      <td>0.052912</td>\n",
       "      <td>0.070854</td>\n",
       "      <td>False</td>\n",
       "    </tr>\n",
       "    <tr>\n",
       "      <th>747</th>\n",
       "      <td>t_007a41ee336d</td>\n",
       "      <td>c_41b9e4ba12f1</td>\n",
       "      <td>Definite Article</td>\n",
       "      <td>Concrete and abstract nouns exercise</td>\n",
       "      <td>en</td>\n",
       "      <td>0</td>\n",
       "      <td>0.284743</td>\n",
       "      <td>0.000900</td>\n",
       "      <td>0.001852</td>\n",
       "      <td>0.010150</td>\n",
       "      <td>False</td>\n",
       "    </tr>\n",
       "    <tr>\n",
       "      <th>748</th>\n",
       "      <td>t_007a41ee336d</td>\n",
       "      <td>c_33dd7a8c5658</td>\n",
       "      <td>Definite Article</td>\n",
       "      <td>Magazine article Exercise</td>\n",
       "      <td>en</td>\n",
       "      <td>0</td>\n",
       "      <td>0.283900</td>\n",
       "      <td>0.001342</td>\n",
       "      <td>0.002275</td>\n",
       "      <td>0.008010</td>\n",
       "      <td>False</td>\n",
       "    </tr>\n",
       "    <tr>\n",
       "      <th>749</th>\n",
       "      <td>t_007a41ee336d</td>\n",
       "      <td>c_3a5b5e6b7bea</td>\n",
       "      <td>Definite Article</td>\n",
       "      <td>Countable and uncountable nouns</td>\n",
       "      <td>en</td>\n",
       "      <td>0</td>\n",
       "      <td>0.210674</td>\n",
       "      <td>0.000067</td>\n",
       "      <td>0.026007</td>\n",
       "      <td>0.041517</td>\n",
       "      <td>False</td>\n",
       "    </tr>\n",
       "  </tbody>\n",
       "</table>\n",
       "</div>\n",
       "      <button class=\"colab-df-convert\" onclick=\"convertToInteractive('df-506061bf-050a-4b8a-a2e2-140cdae17ade')\"\n",
       "              title=\"Convert this dataframe to an interactive table.\"\n",
       "              style=\"display:none;\">\n",
       "        \n",
       "  <svg xmlns=\"http://www.w3.org/2000/svg\" height=\"24px\"viewBox=\"0 0 24 24\"\n",
       "       width=\"24px\">\n",
       "    <path d=\"M0 0h24v24H0V0z\" fill=\"none\"/>\n",
       "    <path d=\"M18.56 5.44l.94 2.06.94-2.06 2.06-.94-2.06-.94-.94-2.06-.94 2.06-2.06.94zm-11 1L8.5 8.5l.94-2.06 2.06-.94-2.06-.94L8.5 2.5l-.94 2.06-2.06.94zm10 10l.94 2.06.94-2.06 2.06-.94-2.06-.94-.94-2.06-.94 2.06-2.06.94z\"/><path d=\"M17.41 7.96l-1.37-1.37c-.4-.4-.92-.59-1.43-.59-.52 0-1.04.2-1.43.59L10.3 9.45l-7.72 7.72c-.78.78-.78 2.05 0 2.83L4 21.41c.39.39.9.59 1.41.59.51 0 1.02-.2 1.41-.59l7.78-7.78 2.81-2.81c.8-.78.8-2.07 0-2.86zM5.41 20L4 18.59l7.72-7.72 1.47 1.35L5.41 20z\"/>\n",
       "  </svg>\n",
       "      </button>\n",
       "      \n",
       "  <style>\n",
       "    .colab-df-container {\n",
       "      display:flex;\n",
       "      flex-wrap:wrap;\n",
       "      gap: 12px;\n",
       "    }\n",
       "\n",
       "    .colab-df-convert {\n",
       "      background-color: #E8F0FE;\n",
       "      border: none;\n",
       "      border-radius: 50%;\n",
       "      cursor: pointer;\n",
       "      display: none;\n",
       "      fill: #1967D2;\n",
       "      height: 32px;\n",
       "      padding: 0 0 0 0;\n",
       "      width: 32px;\n",
       "    }\n",
       "\n",
       "    .colab-df-convert:hover {\n",
       "      background-color: #E2EBFA;\n",
       "      box-shadow: 0px 1px 2px rgba(60, 64, 67, 0.3), 0px 1px 3px 1px rgba(60, 64, 67, 0.15);\n",
       "      fill: #174EA6;\n",
       "    }\n",
       "\n",
       "    [theme=dark] .colab-df-convert {\n",
       "      background-color: #3B4455;\n",
       "      fill: #D2E3FC;\n",
       "    }\n",
       "\n",
       "    [theme=dark] .colab-df-convert:hover {\n",
       "      background-color: #434B5C;\n",
       "      box-shadow: 0px 1px 3px 1px rgba(0, 0, 0, 0.15);\n",
       "      filter: drop-shadow(0px 1px 2px rgba(0, 0, 0, 0.3));\n",
       "      fill: #FFFFFF;\n",
       "    }\n",
       "  </style>\n",
       "\n",
       "      <script>\n",
       "        const buttonEl =\n",
       "          document.querySelector('#df-506061bf-050a-4b8a-a2e2-140cdae17ade button.colab-df-convert');\n",
       "        buttonEl.style.display =\n",
       "          google.colab.kernel.accessAllowed ? 'block' : 'none';\n",
       "\n",
       "        async function convertToInteractive(key) {\n",
       "          const element = document.querySelector('#df-506061bf-050a-4b8a-a2e2-140cdae17ade');\n",
       "          const dataTable =\n",
       "            await google.colab.kernel.invokeFunction('convertToInteractive',\n",
       "                                                     [key], {});\n",
       "          if (!dataTable) return;\n",
       "\n",
       "          const docLinkHtml = 'Like what you see? Visit the ' +\n",
       "            '<a target=\"_blank\" href=https://colab.research.google.com/notebooks/data_table.ipynb>data table notebook</a>'\n",
       "            + ' to learn more about interactive tables.';\n",
       "          element.innerHTML = '';\n",
       "          dataTable['output_type'] = 'display_data';\n",
       "          await google.colab.output.renderOutput(dataTable, element);\n",
       "          const docLink = document.createElement('div');\n",
       "          docLink.innerHTML = docLinkHtml;\n",
       "          element.appendChild(docLink);\n",
       "        }\n",
       "      </script>\n",
       "    </div>\n",
       "  </div>\n",
       "  "
      ],
      "text/plain": [
       "           topic_id      content_id       topic_title  \\\n",
       "700  t_007a41ee336d  c_1ae8805d8fe1  Definite Article   \n",
       "701  t_007a41ee336d  c_bf1c34747494  Definite Article   \n",
       "702  t_007a41ee336d  c_54384824bc83  Definite Article   \n",
       "703  t_007a41ee336d  c_852e38e6d0b6  Definite Article   \n",
       "704  t_007a41ee336d  c_5ac40d916b94  Definite Article   \n",
       "705  t_007a41ee336d  c_690f3caa8583  Definite Article   \n",
       "706  t_007a41ee336d  c_03f198b1a62a  Definite Article   \n",
       "707  t_007a41ee336d  c_9e663f4d3e7c  Definite Article   \n",
       "708  t_007a41ee336d  c_f6f8618be77b  Definite Article   \n",
       "709  t_007a41ee336d  c_91f868d13a5c  Definite Article   \n",
       "710  t_007a41ee336d  c_044a72f630db  Definite Article   \n",
       "711  t_007a41ee336d  c_76f96567c9f6  Definite Article   \n",
       "712  t_007a41ee336d  c_ad5505966e20  Definite Article   \n",
       "713  t_007a41ee336d  c_ec0520e86c40  Definite Article   \n",
       "714  t_007a41ee336d  c_3ac86daff44c  Definite Article   \n",
       "715  t_007a41ee336d  c_f209def9e1f2  Definite Article   \n",
       "716  t_007a41ee336d  c_2cef92a07f37  Definite Article   \n",
       "717  t_007a41ee336d  c_986f5a4587d0  Definite Article   \n",
       "718  t_007a41ee336d  c_f4e748041611  Definite Article   \n",
       "719  t_007a41ee336d  c_9e4eb784bd17  Definite Article   \n",
       "720  t_007a41ee336d  c_cd878a3ec563  Definite Article   \n",
       "721  t_007a41ee336d  c_49a3a3278019  Definite Article   \n",
       "722  t_007a41ee336d  c_22f687caec45  Definite Article   \n",
       "723  t_007a41ee336d  c_b0dab52d80f0  Definite Article   \n",
       "724  t_007a41ee336d  c_9ec3e5e2f457  Definite Article   \n",
       "725  t_007a41ee336d  c_8b541b9ff3b9  Definite Article   \n",
       "726  t_007a41ee336d  c_f8f0ee1dab3f  Definite Article   \n",
       "727  t_007a41ee336d  c_496c30230b0d  Definite Article   \n",
       "728  t_007a41ee336d  c_0e5d69129cfb  Definite Article   \n",
       "729  t_007a41ee336d  c_21afb13846b0  Definite Article   \n",
       "730  t_007a41ee336d  c_5c568ae2dde7  Definite Article   \n",
       "731  t_007a41ee336d  c_182dd67de9c2  Definite Article   \n",
       "732  t_007a41ee336d  c_12d401978750  Definite Article   \n",
       "733  t_007a41ee336d  c_68b571a93ade  Definite Article   \n",
       "734  t_007a41ee336d  c_3395cfc387e5  Definite Article   \n",
       "735  t_007a41ee336d  c_adc5999a52b2  Definite Article   \n",
       "736  t_007a41ee336d  c_feedf7e213bf  Definite Article   \n",
       "737  t_007a41ee336d  c_9d85c4468fc5  Definite Article   \n",
       "738  t_007a41ee336d  c_2e2d6f350352  Definite Article   \n",
       "739  t_007a41ee336d  c_f7c879ddbda3  Definite Article   \n",
       "740  t_007a41ee336d  c_bc888350ce86  Definite Article   \n",
       "741  t_007a41ee336d  c_0d70900600c8  Definite Article   \n",
       "742  t_007a41ee336d  c_7ff4a54bfe64  Definite Article   \n",
       "743  t_007a41ee336d  c_0ac9a03c44a5  Definite Article   \n",
       "744  t_007a41ee336d  c_257a1e069a35  Definite Article   \n",
       "745  t_007a41ee336d  c_82e2b363f7cb  Definite Article   \n",
       "746  t_007a41ee336d  c_32a20914bccc  Definite Article   \n",
       "747  t_007a41ee336d  c_41b9e4ba12f1  Definite Article   \n",
       "748  t_007a41ee336d  c_33dd7a8c5658  Definite Article   \n",
       "749  t_007a41ee336d  c_3a5b5e6b7bea  Definite Article   \n",
       "\n",
       "                                         content_title language  fold  \\\n",
       "700                                  Definite Articles       en     0   \n",
       "701                               The definite article       en     0   \n",
       "702                                            Article       en     0   \n",
       "703                                           Articles       en     0   \n",
       "704                           Introduction to Articles       en     0   \n",
       "705                   Definite and indefinite articles       en     0   \n",
       "706                                Indefinite articles       en     0   \n",
       "707                                Indefinite Articles       en     0   \n",
       "708                                      News articles       en     0   \n",
       "709                                  Articles Exercise       en     0   \n",
       "710                                      Noun - Number       en     0   \n",
       "711                                  Intro to articles       en     0   \n",
       "712                      GRAMMAR  Articles (A, An,The)       en     0   \n",
       "713                                           Articles       en     0   \n",
       "714                 Subject Verb Agreement Golden Rule       en     0   \n",
       "715  Choosing between definite and indefinite articles       en     0   \n",
       "716                   Definite and indefinite articles       en     0   \n",
       "717                        Newspaper articles Exercise       en     0   \n",
       "718                                  Gr 4 Articles pdf       en     0   \n",
       "719                                        Noun - Case       en     0   \n",
       "720             The difference between the group means       en     0   \n",
       "721                                  Intro to articles       en     0   \n",
       "722                                  Person and number       en     0   \n",
       "723                         Newspaper article Exercise       en     0   \n",
       "724                             Repetition of Articles       en     0   \n",
       "725                                      Gr 4 Articles       en     0   \n",
       "726                             Introduction to Nouns1       en     0   \n",
       "727     Noun revision with Abstract and Concrete Nouns       en     0   \n",
       "728                     The Verb - Persons and Numbers       en     0   \n",
       "729                                    Kinds of Nouns1       en     0   \n",
       "730                                    Kinds of Nouns2       en     0   \n",
       "731                                      Noun - Gender       en     0   \n",
       "732                              Introduction to Nouns       en     0   \n",
       "733                                     Kinds of Nouns       en     0   \n",
       "734                           Common and Proper  Nouns       en     0   \n",
       "735                            Common and Proper Nouns       en     0   \n",
       "736                            Common and proper nouns       en     0   \n",
       "737                                           Headline       en     0   \n",
       "738                    Individual and collective nouns       en     0   \n",
       "739           Countable and uncountable nouns exercise       en     0   \n",
       "740                    Difference between WHO and WHOM       en     0   \n",
       "741                           Subject - Verb - Concord       en     0   \n",
       "742                              Introduction to nouns       en     0   \n",
       "743                                           Glossary       en     0   \n",
       "744                       Gr 5 Common and Proper Nouns       en     0   \n",
       "745                   Common and Proper Nouns Exercise       en     0   \n",
       "746                              Degrees of Comparison       en     0   \n",
       "747               Concrete and abstract nouns exercise       en     0   \n",
       "748                          Magazine article Exercise       en     0   \n",
       "749                    Countable and uncountable nouns       en     0   \n",
       "\n",
       "     predictions_proba_svm  predictions_proba_xgb  \\\n",
       "700               0.919790               0.991775   \n",
       "701               0.763671               0.960084   \n",
       "702               0.695077               0.656971   \n",
       "703               0.739565               0.580183   \n",
       "704               0.743101               0.896171   \n",
       "705               0.373201               0.050855   \n",
       "706               0.638831               0.533355   \n",
       "707               0.638831               0.533355   \n",
       "708               0.536573               0.612458   \n",
       "709               0.295280               0.016205   \n",
       "710               0.379722               0.007793   \n",
       "711               0.324157               0.008422   \n",
       "712               0.468959               0.064843   \n",
       "713               0.336215               0.009518   \n",
       "714               0.358219               0.080528   \n",
       "715               0.550677               0.020753   \n",
       "716               0.313007               0.003969   \n",
       "717               0.294731               0.009336   \n",
       "718               0.298432               0.003267   \n",
       "719               0.425658               0.001891   \n",
       "720               0.348692               0.020854   \n",
       "721               0.350417               0.001697   \n",
       "722               0.401005               0.009176   \n",
       "723               0.236434               0.010088   \n",
       "724               0.591409               0.442609   \n",
       "725               0.249261               0.003225   \n",
       "726               0.446690               0.000477   \n",
       "727               0.430424               0.001780   \n",
       "728               0.299379               0.000382   \n",
       "729               0.415175               0.001186   \n",
       "730               0.406147               0.002211   \n",
       "731               0.438969               0.000591   \n",
       "732               0.454224               0.000476   \n",
       "733               0.432773               0.001643   \n",
       "734               0.356777               0.001154   \n",
       "735               0.356777               0.001154   \n",
       "736               0.356777               0.001154   \n",
       "737               0.467949               0.074653   \n",
       "738               0.404974               0.000127   \n",
       "739               0.170948               0.000131   \n",
       "740               0.404482               0.002066   \n",
       "741               0.405467               0.012803   \n",
       "742               0.243497               0.001066   \n",
       "743               0.322033               0.002301   \n",
       "744               0.220235               0.000227   \n",
       "745               0.225452               0.000512   \n",
       "746               0.222185               0.001081   \n",
       "747               0.284743               0.000900   \n",
       "748               0.283900               0.001342   \n",
       "749               0.210674               0.000067   \n",
       "\n",
       "     predictions_proba_roberta_large  predictions_proba_roberta_base  label  \n",
       "700                         0.952143                        0.988921   True  \n",
       "701                         0.711118                        0.940458  False  \n",
       "702                         0.461248                        0.145006  False  \n",
       "703                         0.393732                        0.068524  False  \n",
       "704                         0.406970                        0.083121  False  \n",
       "705                         0.456606                        0.645550  False  \n",
       "706                         0.108801                        0.760094  False  \n",
       "707                         0.142788                        0.910242  False  \n",
       "708                         0.059831                        0.058792  False  \n",
       "709                         0.085189                        0.005300  False  \n",
       "710                         0.024968                        0.099452  False  \n",
       "711                         0.401044                        0.041518  False  \n",
       "712                         0.015050                        0.071167  False  \n",
       "713                         0.393732                        0.068524  False  \n",
       "714                         0.008854                        0.021817  False  \n",
       "715                         0.361390                        0.460085  False  \n",
       "716                         0.456606                        0.645550  False  \n",
       "717                         0.008146                        0.005844  False  \n",
       "718                         0.037203                        0.038727  False  \n",
       "719                         0.035121                        0.056560  False  \n",
       "720                         0.023429                        0.040065  False  \n",
       "721                         0.401044                        0.041518  False  \n",
       "722                         0.035229                        0.077708  False  \n",
       "723                         0.003741                        0.004807  False  \n",
       "724                         0.151790                        0.050824  False  \n",
       "725                         0.078039                        0.096099  False  \n",
       "726                         0.008840                        0.024188  False  \n",
       "727                         0.004345                        0.038865  False  \n",
       "728                         0.019042                        0.042659  False  \n",
       "729                         0.062547                        0.005743  False  \n",
       "730                         0.060882                        0.005687  False  \n",
       "731                         0.044060                        0.109021  False  \n",
       "732                         0.012746                        0.046772  False  \n",
       "733                         0.059208                        0.012175  False  \n",
       "734                         0.018234                        0.101205  False  \n",
       "735                         0.018234                        0.101205  False  \n",
       "736                         0.023477                        0.032356  False  \n",
       "737                         0.185651                        0.110008  False  \n",
       "738                         0.012064                        0.014091  False  \n",
       "739                         0.000703                        0.011768  False  \n",
       "740                         0.059365                        0.063886  False  \n",
       "741                         0.066978                        0.106798  False  \n",
       "742                         0.007214                        0.038776  False  \n",
       "743                         0.058504                        0.159890  False  \n",
       "744                         0.009320                        0.046529  False  \n",
       "745                         0.000602                        0.003673  False  \n",
       "746                         0.052912                        0.070854  False  \n",
       "747                         0.001852                        0.010150  False  \n",
       "748                         0.002275                        0.008010  False  \n",
       "749                         0.026007                        0.041517  False  "
      ]
     },
     "execution_count": 74,
     "metadata": {},
     "output_type": "execute_result"
    }
   ],
   "source": [
    "preds_pd[(preds_pd['language']=='en')].iloc[200:250]"
   ]
  },
  {
   "cell_type": "code",
   "execution_count": 14,
   "metadata": {},
   "outputs": [],
   "source": [
    "def concat_submission(result_list):\n",
    "    df_test = pd.concat(result_list)\n",
    "    df_test.fillna(\"\", inplace = True)\n",
    "    df_test['content_ids'] = df_test['content_ids'].apply(lambda c: c.split(' '))\n",
    "    df_test = df_test.explode('content_ids').groupby(['topic_id'])['content_ids'].unique().reset_index()\n",
    "    df_test['content_ids'] = df_test['content_ids'].apply(lambda c: ' '.join(c))\n",
    "    return df_test\n",
    "def calc_f2_score(true_ids, pred_ids):\n",
    "  true_positives = len(set(true_ids)&set(pred_ids))\n",
    "  false_positives = len(set(pred_ids)-set(true_ids))\n",
    "  false_negatives = len(set(true_ids)-set(pred_ids))\n",
    "\n",
    "  beta = 2\n",
    "  f2_score = ((1+beta**2)*true_positives)/((1+beta**2)*true_positives + beta**2*false_negatives + false_positives)\n",
    "  return f2_score\n",
    "\n",
    "def calc_f2_score_mean(target_df, pred_df):\n",
    "  shape = target_df.shape\n",
    "  score = [calc_f2_score(target_df.loc[i, 'content_ids'].split(), pred_df.loc[i, 'content_ids'].split()) for i in range(shape[0])]\n",
    "  target_df['f2_score'] = score\n",
    "  return target_df['f2_score'].mean()"
   ]
  },
  {
   "cell_type": "code",
   "execution_count": 25,
   "metadata": {},
   "outputs": [],
   "source": [
    "import tqdm\n",
    "import pandas as pd\n",
    "import polars as pl\n",
    "import numpy as np\n",
    "def ensemble_postprocess_2(df, threshold:float = 0.8, \n",
    "                           columns:list = ['predictions_proba_svm','predictions_proba_roberta_base', 'predictions_proba_roberta_large', 'predictions_proba_xgb'], \n",
    "                           weight:np.array = np.array([0.25, 0.25, 0.25, 0.25]), top_n: int = 5):\n",
    "    weight = weight / sum(weight)\n",
    "    df['predictions_proba'] = sum([df[columns[i]] * weight[i] for i  in range(len(columns))])\n",
    "    out_df = df.copy()\n",
    "    out_df.loc[:,'pred'] = 0\n",
    "    out_df.loc[df['predictions_proba']>threshold, 'pred'] = 1\n",
    "    result = []\n",
    "    grouped_df = out_df.groupby('topic_id')\n",
    "    for idx, df_ in tqdm.tqdm(grouped_df, total=len(grouped_df)):\n",
    "        if df_.pred.sum()==0:\n",
    "            res_df = df_.iloc[:top_n]\n",
    "        else:\n",
    "            res_df = df_[df_.pred==1]\n",
    "        result.append(res_df.loc[:,['topic_id', 'content_id']])\n",
    "    result = pd.concat(result, axis=0)\n",
    "    result = pd.DataFrame(result.groupby('topic_id').apply(lambda x:' '.join(x.content_id)))\n",
    "    result =result.reset_index().rename(columns={0:'content_ids'})\n",
    "    result['content_ids'] = result['content_ids'].apply(lambda x:' '.join(x.split(' ')))\n",
    "    return result\n",
    "correlations_df = pl.read_csv('/root/workspace/Learning_Equality/data/row/correlations.csv')\n",
    "correlations_df = correlations_df.to_pandas()\n",
    "preds1 = pl.read_csv('/root/workspace/Learning_Equality/ensemble_3S1-5S2/oof_df_all-MiniLM-L6-v2.csv')\n",
    "preds2= pl.read_csv( '/root/workspace/Learning_Equality/ensemble_3S1-5S2/oof_df_paraphrase-multilingual-mpnet-base-v2.csv')\n",
    "preds3 = pl.read_csv( '/root/workspace/Learning_Equality/ensemble_3S1-5S2/oof_df_all-mpnet-base-v2.csv')\n",
    "preds1= preds1.to_pandas()\n",
    "preds2= preds2.to_pandas()\n",
    "preds3= preds3.to_pandas()\n",
    "preds1 = preds1[preds1['language']!='en']\n",
    "preds2 = preds2[preds2['language']!='en']\n",
    "preds3 = preds3[preds3['language']!='en']\n",
    "def objective(trial):\n",
    "    threhold_list = {\n",
    "    'threhold1':trial.suggest_float('threhold1', 0.5, 1),\n",
    "    'threhold2':trial.suggest_float('threhold2', 0.5, 1),\n",
    "    'threhold3':trial.suggest_float('threhold3', 0.5, 1),\n",
    "    }\n",
    "    weight_list = {\n",
    "    'weight1':trial.suggest_float('weight1', 0, 0.6),\n",
    "    'weight2':trial.suggest_float('weight2', 0., 0.6),\n",
    "    'weight3':trial.suggest_float('weight3', 0, 0.6),\n",
    "    # 'weight4':trial.suggest_float('weight4', 0, 0.6),\n",
    "    }\n",
    "    print(np.array(weight_list.values()))\n",
    "    result1 = ensemble_postprocess_2(preds1, weight= np.array(list(weight_list.values())), columns = ['predictions_proba_svm','predictions_proba_roberta_base', 'predictions_proba_xgb'],\n",
    "                threshold=threhold_list['threhold1'], top_n = 1)\n",
    "    result2 = ensemble_postprocess_2(preds2,  weight= np.array(list(weight_list.values())), columns = ['predictions_proba_svm','predictions_proba_roberta_base', 'predictions_proba_xgb'],\n",
    "                    threshold=threhold_list['threhold2'], top_n = 1)\n",
    "    result3 = ensemble_postprocess_2(preds3,  weight= np.array(list(weight_list.values())), columns = ['predictions_proba_svm','predictions_proba_roberta_base', 'predictions_proba_xgb'],\n",
    "                    threshold=threhold_list['threhold3'], top_n = 1)\n",
    "    submission_df = concat_submission([result1, result2, result3])\n",
    "    target_df = correlations_df[correlations_df.topic_id.isin(preds1.topic_id)].reset_index(drop=True)\n",
    "    score = calc_f2_score_mean(target_df, submission_df)\n",
    "    return score"
   ]
  },
  {
   "cell_type": "code",
   "execution_count": 26,
   "metadata": {},
   "outputs": [
    {
     "name": "stderr",
     "output_type": "stream",
     "text": [
      "\u001b[32m[I 2023-03-12 09:25:20,205]\u001b[0m A new study created in memory with name: no-name-a56a1727-58b7-4c59-be91-06f61feea2bc\u001b[0m\n"
     ]
    },
    {
     "name": "stdout",
     "output_type": "stream",
     "text": [
      "dict_values([0.04977881676240461, 0.5466094368731014, 0.49763586053661074])\n"
     ]
    },
    {
     "name": "stderr",
     "output_type": "stream",
     "text": [
      "100%|██████████| 6748/6748 [00:06<00:00, 1006.20it/s]\n",
      "100%|██████████| 6748/6748 [00:04<00:00, 1398.33it/s]\n",
      "100%|██████████| 6748/6748 [00:06<00:00, 1104.59it/s]\n",
      "\u001b[32m[I 2023-03-12 09:25:40,931]\u001b[0m Trial 0 finished with value: 0.4313060147284794 and parameters: {'threhold1': 0.5450819068010138, 'threhold2': 0.9924582592975384, 'threhold3': 0.8093390680024231, 'weight1': 0.04977881676240461, 'weight2': 0.5466094368731014, 'weight3': 0.49763586053661074}. Best is trial 0 with value: 0.4313060147284794.\u001b[0m\n"
     ]
    },
    {
     "name": "stdout",
     "output_type": "stream",
     "text": [
      "dict_values([0.06279322889112601, 0.41948438036156915, 0.14568858151915623])\n"
     ]
    },
    {
     "name": "stderr",
     "output_type": "stream",
     "text": [
      "100%|██████████| 6748/6748 [00:06<00:00, 1011.85it/s]\n",
      "100%|██████████| 6748/6748 [00:06<00:00, 1048.13it/s]\n",
      "100%|██████████| 6748/6748 [00:06<00:00, 1078.91it/s]\n",
      "\u001b[32m[I 2023-03-12 09:26:03,331]\u001b[0m Trial 1 finished with value: 0.4447173212531549 and parameters: {'threhold1': 0.5442458490581918, 'threhold2': 0.7938732124358174, 'threhold3': 0.7684730652324603, 'weight1': 0.06279322889112601, 'weight2': 0.41948438036156915, 'weight3': 0.14568858151915623}. Best is trial 1 with value: 0.4447173212531549.\u001b[0m\n"
     ]
    },
    {
     "name": "stdout",
     "output_type": "stream",
     "text": [
      "dict_values([0.5250276960318123, 0.055907171140877954, 0.15611885157951313])\n"
     ]
    },
    {
     "name": "stderr",
     "output_type": "stream",
     "text": [
      "100%|██████████| 6748/6748 [00:07<00:00, 958.47it/s] \n",
      "100%|██████████| 6748/6748 [00:06<00:00, 1071.32it/s]\n",
      "100%|██████████| 6748/6748 [00:06<00:00, 1082.64it/s]\n",
      "\u001b[32m[I 2023-03-12 09:26:25,855]\u001b[0m Trial 2 finished with value: 0.4278843308525712 and parameters: {'threhold1': 0.5149049285299641, 'threhold2': 0.7469317393807022, 'threhold3': 0.704687033433717, 'weight1': 0.5250276960318123, 'weight2': 0.055907171140877954, 'weight3': 0.15611885157951313}. Best is trial 1 with value: 0.4447173212531549.\u001b[0m\n"
     ]
    },
    {
     "name": "stdout",
     "output_type": "stream",
     "text": [
      "dict_values([0.47340003862706326, 0.34987958523641777, 0.5812659742272772])\n"
     ]
    },
    {
     "name": "stderr",
     "output_type": "stream",
     "text": [
      "100%|██████████| 6748/6748 [00:06<00:00, 1001.75it/s]\n",
      "100%|██████████| 6748/6748 [00:06<00:00, 994.13it/s] \n",
      "100%|██████████| 6748/6748 [00:06<00:00, 993.34it/s] \n",
      "\u001b[32m[I 2023-03-12 09:26:49,331]\u001b[0m Trial 3 finished with value: 0.46144299130962596 and parameters: {'threhold1': 0.7137544519980854, 'threhold2': 0.6264479057166119, 'threhold3': 0.5075754137521815, 'weight1': 0.47340003862706326, 'weight2': 0.34987958523641777, 'weight3': 0.5812659742272772}. Best is trial 3 with value: 0.46144299130962596.\u001b[0m\n"
     ]
    },
    {
     "name": "stdout",
     "output_type": "stream",
     "text": [
      "dict_values([0.14062728831949062, 0.05550009499805264, 0.3202292413040939])\n"
     ]
    },
    {
     "name": "stderr",
     "output_type": "stream",
     "text": [
      "100%|██████████| 6748/6748 [00:06<00:00, 1002.71it/s]\n",
      "100%|██████████| 6748/6748 [00:06<00:00, 976.92it/s] \n",
      "100%|██████████| 6748/6748 [00:05<00:00, 1227.64it/s]\n",
      "\u001b[32m[I 2023-03-12 09:27:11,320]\u001b[0m Trial 4 finished with value: 0.42841214337993666 and parameters: {'threhold1': 0.5415080829797418, 'threhold2': 0.6059926373767904, 'threhold3': 0.9033761364380639, 'weight1': 0.14062728831949062, 'weight2': 0.05550009499805264, 'weight3': 0.3202292413040939}. Best is trial 3 with value: 0.46144299130962596.\u001b[0m\n"
     ]
    },
    {
     "name": "stdout",
     "output_type": "stream",
     "text": [
      "dict_values([0.060915178872488936, 0.5490494258848296, 0.3741100661693924])\n"
     ]
    },
    {
     "name": "stderr",
     "output_type": "stream",
     "text": [
      "100%|██████████| 6748/6748 [00:06<00:00, 1000.81it/s]\n",
      "100%|██████████| 6748/6748 [00:06<00:00, 1120.24it/s]\n",
      "100%|██████████| 6748/6748 [00:06<00:00, 1039.65it/s]\n",
      "\u001b[32m[I 2023-03-12 09:27:33,564]\u001b[0m Trial 5 finished with value: 0.46971335405030873 and parameters: {'threhold1': 0.6412987722191332, 'threhold2': 0.8704394092750265, 'threhold3': 0.5937716538783055, 'weight1': 0.060915178872488936, 'weight2': 0.5490494258848296, 'weight3': 0.3741100661693924}. Best is trial 5 with value: 0.46971335405030873.\u001b[0m\n"
     ]
    },
    {
     "name": "stdout",
     "output_type": "stream",
     "text": [
      "dict_values([0.3366038015636222, 0.3559965843125379, 0.327796100446761])\n"
     ]
    },
    {
     "name": "stderr",
     "output_type": "stream",
     "text": [
      "100%|██████████| 6748/6748 [00:06<00:00, 1057.74it/s]\n",
      "100%|██████████| 6748/6748 [00:06<00:00, 1059.09it/s]\n",
      "100%|██████████| 6748/6748 [00:06<00:00, 1089.84it/s]\n",
      "\u001b[32m[I 2023-03-12 09:27:55,678]\u001b[0m Trial 6 finished with value: 0.48656060150557695 and parameters: {'threhold1': 0.7578129305360418, 'threhold2': 0.7599542845673777, 'threhold3': 0.8034019866362538, 'weight1': 0.3366038015636222, 'weight2': 0.3559965843125379, 'weight3': 0.327796100446761}. Best is trial 6 with value: 0.48656060150557695.\u001b[0m\n"
     ]
    },
    {
     "name": "stdout",
     "output_type": "stream",
     "text": [
      "dict_values([0.37762501737199866, 0.06592060325824996, 0.5571135473347348])\n"
     ]
    },
    {
     "name": "stderr",
     "output_type": "stream",
     "text": [
      "100%|██████████| 6748/6748 [00:06<00:00, 997.99it/s] \n",
      "100%|██████████| 6748/6748 [00:06<00:00, 1013.21it/s]\n",
      "100%|██████████| 6748/6748 [00:04<00:00, 1374.19it/s]\n",
      "\u001b[32m[I 2023-03-12 09:28:16,520]\u001b[0m Trial 7 finished with value: 0.45868100605202455 and parameters: {'threhold1': 0.681612626546025, 'threhold2': 0.7100625925862343, 'threhold3': 0.9903740312324849, 'weight1': 0.37762501737199866, 'weight2': 0.06592060325824996, 'weight3': 0.5571135473347348}. Best is trial 6 with value: 0.48656060150557695.\u001b[0m\n"
     ]
    },
    {
     "name": "stdout",
     "output_type": "stream",
     "text": [
      "dict_values([0.09080586928106035, 0.5285855827402468, 0.31141186334557064])\n"
     ]
    },
    {
     "name": "stderr",
     "output_type": "stream",
     "text": [
      "100%|██████████| 6748/6748 [00:05<00:00, 1203.98it/s]\n",
      "100%|██████████| 6748/6748 [00:05<00:00, 1331.75it/s]\n",
      "100%|██████████| 6748/6748 [00:06<00:00, 1123.56it/s]\n",
      "\u001b[32m[I 2023-03-12 09:28:36,005]\u001b[0m Trial 8 finished with value: 0.405346379960417 and parameters: {'threhold1': 0.9713031853112128, 'threhold2': 0.9649539133471422, 'threhold3': 0.8689968631458889, 'weight1': 0.09080586928106035, 'weight2': 0.5285855827402468, 'weight3': 0.31141186334557064}. Best is trial 6 with value: 0.48656060150557695.\u001b[0m\n"
     ]
    },
    {
     "name": "stdout",
     "output_type": "stream",
     "text": [
      "dict_values([0.41478316079528377, 0.04873861492343112, 0.12436942909632402])\n"
     ]
    },
    {
     "name": "stderr",
     "output_type": "stream",
     "text": [
      "100%|██████████| 6748/6748 [00:06<00:00, 1035.74it/s]\n",
      "100%|██████████| 6748/6748 [00:06<00:00, 989.03it/s] \n",
      "100%|██████████| 6748/6748 [00:05<00:00, 1233.75it/s]\n",
      "\u001b[32m[I 2023-03-12 09:28:58,030]\u001b[0m Trial 9 finished with value: 0.4591423810649173 and parameters: {'threhold1': 0.8077909366167684, 'threhold2': 0.5290177674556971, 'threhold3': 0.8143367306340348, 'weight1': 0.41478316079528377, 'weight2': 0.04873861492343112, 'weight3': 0.12436942909632402}. Best is trial 6 with value: 0.48656060150557695.\u001b[0m\n"
     ]
    },
    {
     "name": "stdout",
     "output_type": "stream",
     "text": [
      "dict_values([0.256927924248545, 0.22024640383582247, 0.033804816174589025])\n"
     ]
    },
    {
     "name": "stderr",
     "output_type": "stream",
     "text": [
      "100%|██████████| 6748/6748 [00:06<00:00, 1050.74it/s]\n",
      "100%|██████████| 6748/6748 [00:05<00:00, 1198.00it/s]\n",
      "100%|██████████| 6748/6748 [00:06<00:00, 1078.77it/s]\n",
      "\u001b[32m[I 2023-03-12 09:29:19,475]\u001b[0m Trial 10 finished with value: 0.48218092750838837 and parameters: {'threhold1': 0.8115489593640256, 'threhold2': 0.8530729501981523, 'threhold3': 0.7071673296875598, 'weight1': 0.256927924248545, 'weight2': 0.22024640383582247, 'weight3': 0.033804816174589025}. Best is trial 6 with value: 0.48656060150557695.\u001b[0m\n"
     ]
    },
    {
     "name": "stdout",
     "output_type": "stream",
     "text": [
      "dict_values([0.2658900568585353, 0.21422618607918076, 0.014860168170142397])\n"
     ]
    },
    {
     "name": "stderr",
     "output_type": "stream",
     "text": [
      "100%|██████████| 6748/6748 [00:06<00:00, 1019.38it/s]\n",
      "100%|██████████| 6748/6748 [00:05<00:00, 1158.90it/s]\n",
      "100%|██████████| 6748/6748 [00:06<00:00, 1051.86it/s]\n",
      "\u001b[32m[I 2023-03-12 09:29:40,874]\u001b[0m Trial 11 finished with value: 0.4855885578874286 and parameters: {'threhold1': 0.8137982836721996, 'threhold2': 0.8492688607642304, 'threhold3': 0.6766329515989155, 'weight1': 0.2658900568585353, 'weight2': 0.21422618607918076, 'weight3': 0.014860168170142397}. Best is trial 6 with value: 0.48656060150557695.\u001b[0m\n"
     ]
    },
    {
     "name": "stdout",
     "output_type": "stream",
     "text": [
      "dict_values([0.2727920206374356, 0.23704770821211188, 0.0011187478966089535])\n"
     ]
    },
    {
     "name": "stderr",
     "output_type": "stream",
     "text": [
      "100%|██████████| 6748/6748 [00:06<00:00, 1066.34it/s]\n",
      "100%|██████████| 6748/6748 [00:05<00:00, 1151.49it/s]\n",
      "100%|██████████| 6748/6748 [00:06<00:00, 1059.63it/s]\n",
      "\u001b[32m[I 2023-03-12 09:30:02,195]\u001b[0m Trial 12 finished with value: 0.48737539351607856 and parameters: {'threhold1': 0.8052281092336476, 'threhold2': 0.8403076578659099, 'threhold3': 0.6535192596597941, 'weight1': 0.2727920206374356, 'weight2': 0.23704770821211188, 'weight3': 0.0011187478966089535}. Best is trial 12 with value: 0.48737539351607856.\u001b[0m\n"
     ]
    },
    {
     "name": "stdout",
     "output_type": "stream",
     "text": [
      "dict_values([0.5965584645032292, 0.28926739031477183, 0.22569647704578472])\n"
     ]
    },
    {
     "name": "stderr",
     "output_type": "stream",
     "text": [
      "100%|██████████| 6748/6748 [00:06<00:00, 1060.64it/s]\n",
      "100%|██████████| 6748/6748 [00:06<00:00, 1062.09it/s]\n",
      "100%|██████████| 6748/6748 [00:07<00:00, 954.58it/s] \n",
      "\u001b[32m[I 2023-03-12 09:30:25,124]\u001b[0m Trial 13 finished with value: 0.4954442878256849 and parameters: {'threhold1': 0.8989872375600132, 'threhold2': 0.7272817439010506, 'threhold3': 0.6268124532853687, 'weight1': 0.5965584645032292, 'weight2': 0.28926739031477183, 'weight3': 0.22569647704578472}. Best is trial 13 with value: 0.4954442878256849.\u001b[0m\n"
     ]
    },
    {
     "name": "stdout",
     "output_type": "stream",
     "text": [
      "dict_values([0.587555234632053, 0.2490096710359011, 0.2293171629427691])\n"
     ]
    },
    {
     "name": "stderr",
     "output_type": "stream",
     "text": [
      "100%|██████████| 6748/6748 [00:05<00:00, 1135.51it/s]\n",
      "100%|██████████| 6748/6748 [00:06<00:00, 1034.32it/s]\n",
      "100%|██████████| 6748/6748 [00:06<00:00, 1017.29it/s]\n",
      "\u001b[32m[I 2023-03-12 09:30:47,247]\u001b[0m Trial 14 finished with value: 0.49438585989030204 and parameters: {'threhold1': 0.9184941051763377, 'threhold2': 0.6796189138144122, 'threhold3': 0.6329753247863154, 'weight1': 0.587555234632053, 'weight2': 0.2490096710359011, 'weight3': 0.2293171629427691}. Best is trial 13 with value: 0.4954442878256849.\u001b[0m\n"
     ]
    },
    {
     "name": "stdout",
     "output_type": "stream",
     "text": [
      "dict_values([0.5945519466812305, 0.1451392131220785, 0.2354167461705509])\n"
     ]
    },
    {
     "name": "stderr",
     "output_type": "stream",
     "text": [
      "100%|██████████| 6748/6748 [00:06<00:00, 1113.16it/s]\n",
      "100%|██████████| 6748/6748 [00:06<00:00, 1024.23it/s]\n",
      "100%|██████████| 6748/6748 [00:06<00:00, 972.15it/s] \n",
      "\u001b[32m[I 2023-03-12 09:31:09,920]\u001b[0m Trial 15 finished with value: 0.47953866367739345 and parameters: {'threhold1': 0.9289075006796533, 'threhold2': 0.6869885684880411, 'threhold3': 0.5950032578751479, 'weight1': 0.5945519466812305, 'weight2': 0.1451392131220785, 'weight3': 0.2354167461705509}. Best is trial 13 with value: 0.4954442878256849.\u001b[0m\n"
     ]
    },
    {
     "name": "stdout",
     "output_type": "stream",
     "text": [
      "dict_values([0.5990231774460547, 0.2965116787734245, 0.24857254469550244])\n"
     ]
    },
    {
     "name": "stderr",
     "output_type": "stream",
     "text": [
      "100%|██████████| 6748/6748 [00:06<00:00, 1098.55it/s]\n",
      "100%|██████████| 6748/6748 [00:06<00:00, 1025.94it/s]\n",
      "100%|██████████| 6748/6748 [00:06<00:00, 964.84it/s] \n",
      "\u001b[32m[I 2023-03-12 09:31:32,738]\u001b[0m Trial 16 finished with value: 0.4984046466076499 and parameters: {'threhold1': 0.901391694468077, 'threhold2': 0.6586522899342494, 'threhold3': 0.6100974356196667, 'weight1': 0.5990231774460547, 'weight2': 0.2965116787734245, 'weight3': 0.24857254469550244}. Best is trial 16 with value: 0.4984046466076499.\u001b[0m\n"
     ]
    },
    {
     "name": "stdout",
     "output_type": "stream",
     "text": [
      "dict_values([0.5135813986161224, 0.31310219863159877, 0.42249882975960595])\n"
     ]
    },
    {
     "name": "stderr",
     "output_type": "stream",
     "text": [
      "100%|██████████| 6748/6748 [00:06<00:00, 1107.38it/s]\n",
      "100%|██████████| 6748/6748 [00:06<00:00, 985.62it/s] \n",
      "100%|██████████| 6748/6748 [00:07<00:00, 955.85it/s] \n",
      "\u001b[32m[I 2023-03-12 09:31:56,045]\u001b[0m Trial 17 finished with value: 0.47931774481132705 and parameters: {'threhold1': 0.8908349124230348, 'threhold2': 0.6295803204217946, 'threhold3': 0.5273055169800975, 'weight1': 0.5135813986161224, 'weight2': 0.31310219863159877, 'weight3': 0.42249882975960595}. Best is trial 16 with value: 0.4984046466076499.\u001b[0m\n"
     ]
    },
    {
     "name": "stdout",
     "output_type": "stream",
     "text": [
      "dict_values([0.4501034306429772, 0.41401690083875875, 0.24550706978454137])\n"
     ]
    },
    {
     "name": "stderr",
     "output_type": "stream",
     "text": [
      "100%|██████████| 6748/6748 [00:05<00:00, 1240.70it/s]\n",
      "100%|██████████| 6748/6748 [00:07<00:00, 942.56it/s] \n",
      "100%|██████████| 6748/6748 [00:07<00:00, 958.96it/s] \n",
      "\u001b[32m[I 2023-03-12 09:32:18,558]\u001b[0m Trial 18 finished with value: 0.47851971491211576 and parameters: {'threhold1': 0.9711671179791748, 'threhold2': 0.5306108585178826, 'threhold3': 0.5614199153087069, 'weight1': 0.4501034306429772, 'weight2': 0.41401690083875875, 'weight3': 0.24550706978454137}. Best is trial 16 with value: 0.4984046466076499.\u001b[0m\n"
     ]
    },
    {
     "name": "stdout",
     "output_type": "stream",
     "text": [
      "dict_values([0.5463621674589086, 0.1508667305366165, 0.39395606452921195])\n"
     ]
    },
    {
     "name": "stderr",
     "output_type": "stream",
     "text": [
      "100%|██████████| 6748/6748 [00:05<00:00, 1131.08it/s]\n",
      "100%|██████████| 6748/6748 [00:06<00:00, 1022.33it/s]\n",
      "100%|██████████| 6748/6748 [00:06<00:00, 1018.65it/s]\n",
      "\u001b[32m[I 2023-03-12 09:32:40,764]\u001b[0m Trial 19 finished with value: 0.48113496105808695 and parameters: {'threhold1': 0.8758639793228554, 'threhold2': 0.6677605410288036, 'threhold3': 0.619880184446733, 'weight1': 0.5463621674589086, 'weight2': 0.1508667305366165, 'weight3': 0.39395606452921195}. Best is trial 16 with value: 0.4984046466076499.\u001b[0m\n"
     ]
    },
    {
     "name": "stdout",
     "output_type": "stream",
     "text": [
      "dict_values([0.4914772344174658, 0.2656429095699378, 0.2632204882075759])\n"
     ]
    },
    {
     "name": "stderr",
     "output_type": "stream",
     "text": [
      "100%|██████████| 6748/6748 [00:05<00:00, 1340.86it/s]\n",
      "100%|██████████| 6748/6748 [00:06<00:00, 974.01it/s] \n",
      "100%|██████████| 6748/6748 [00:06<00:00, 970.00it/s] \n",
      "\u001b[32m[I 2023-03-12 09:33:02,721]\u001b[0m Trial 20 finished with value: 0.4837183172656687 and parameters: {'threhold1': 0.9990140934266618, 'threhold2': 0.5738749705872126, 'threhold3': 0.5724571371027477, 'weight1': 0.4914772344174658, 'weight2': 0.2656429095699378, 'weight3': 0.2632204882075759}. Best is trial 16 with value: 0.4984046466076499.\u001b[0m\n"
     ]
    },
    {
     "name": "stdout",
     "output_type": "stream",
     "text": [
      "dict_values([0.5948262156710828, 0.2908186686135394, 0.2048681778128023])\n"
     ]
    },
    {
     "name": "stderr",
     "output_type": "stream",
     "text": [
      "100%|██████████| 6748/6748 [00:05<00:00, 1148.19it/s]\n",
      "100%|██████████| 6748/6748 [00:06<00:00, 1008.30it/s]\n",
      "100%|██████████| 6748/6748 [00:06<00:00, 975.88it/s] \n",
      "\u001b[32m[I 2023-03-12 09:33:24,799]\u001b[0m Trial 21 finished with value: 0.49780888226862474 and parameters: {'threhold1': 0.8974072757550808, 'threhold2': 0.6699872697335162, 'threhold3': 0.6386675622750857, 'weight1': 0.5948262156710828, 'weight2': 0.2908186686135394, 'weight3': 0.2048681778128023}. Best is trial 16 with value: 0.4984046466076499.\u001b[0m\n"
     ]
    },
    {
     "name": "stdout",
     "output_type": "stream",
     "text": [
      "dict_values([0.5947057971282302, 0.30157677547016654, 0.1855783007221613])\n"
     ]
    },
    {
     "name": "stderr",
     "output_type": "stream",
     "text": [
      "100%|██████████| 6748/6748 [00:06<00:00, 1080.44it/s]\n",
      "100%|██████████| 6748/6748 [00:06<00:00, 1047.43it/s]\n",
      "100%|██████████| 6748/6748 [00:06<00:00, 990.40it/s] \n",
      "\u001b[32m[I 2023-03-12 09:33:47,260]\u001b[0m Trial 22 finished with value: 0.49754717923481934 and parameters: {'threhold1': 0.8583569677793678, 'threhold2': 0.7212832643954344, 'threhold3': 0.6309357440858657, 'weight1': 0.5947057971282302, 'weight2': 0.30157677547016654, 'weight3': 0.1855783007221613}. Best is trial 16 with value: 0.4984046466076499.\u001b[0m\n"
     ]
    },
    {
     "name": "stdout",
     "output_type": "stream",
     "text": [
      "dict_values([0.551798522170396, 0.32717849481541444, 0.1779129494111758])\n"
     ]
    },
    {
     "name": "stderr",
     "output_type": "stream",
     "text": [
      "100%|██████████| 6748/6748 [00:06<00:00, 1103.37it/s]\n",
      "100%|██████████| 6748/6748 [00:06<00:00, 1018.81it/s]\n",
      "100%|██████████| 6748/6748 [00:06<00:00, 1071.66it/s]\n",
      "\u001b[32m[I 2023-03-12 09:34:09,318]\u001b[0m Trial 23 finished with value: 0.499472971292453 and parameters: {'threhold1': 0.8638162486990794, 'threhold2': 0.6741195588886005, 'threhold3': 0.6821297315592691, 'weight1': 0.551798522170396, 'weight2': 0.32717849481541444, 'weight3': 0.1779129494111758}. Best is trial 23 with value: 0.499472971292453.\u001b[0m\n"
     ]
    },
    {
     "name": "stdout",
     "output_type": "stream",
     "text": [
      "dict_values([0.5447932331430317, 0.36825371623047143, 0.09593553053274398])\n"
     ]
    },
    {
     "name": "stderr",
     "output_type": "stream",
     "text": [
      "100%|██████████| 6748/6748 [00:06<00:00, 1109.11it/s]\n",
      "100%|██████████| 6748/6748 [00:06<00:00, 975.79it/s] \n",
      "100%|██████████| 6748/6748 [00:06<00:00, 1023.26it/s]\n",
      "\u001b[32m[I 2023-03-12 09:34:32,039]\u001b[0m Trial 24 finished with value: 0.5010331520466652 and parameters: {'threhold1': 0.8543399673125015, 'threhold2': 0.6536649489744232, 'threhold3': 0.6804047679239659, 'weight1': 0.5447932331430317, 'weight2': 0.36825371623047143, 'weight3': 0.09593553053274398}. Best is trial 24 with value: 0.5010331520466652.\u001b[0m\n"
     ]
    },
    {
     "name": "stdout",
     "output_type": "stream",
     "text": [
      "dict_values([0.5241481111928926, 0.4194706446869763, 0.0971510261433703])\n"
     ]
    },
    {
     "name": "stderr",
     "output_type": "stream",
     "text": [
      "100%|██████████| 6748/6748 [00:06<00:00, 1088.10it/s]\n",
      "100%|██████████| 6748/6748 [00:06<00:00, 999.83it/s] \n",
      "100%|██████████| 6748/6748 [00:06<00:00, 1079.36it/s]\n",
      "\u001b[32m[I 2023-03-12 09:34:54,228]\u001b[0m Trial 25 finished with value: 0.5027096074341544 and parameters: {'threhold1': 0.85546298819151, 'threhold2': 0.6467422884061437, 'threhold3': 0.6996327494278463, 'weight1': 0.5241481111928926, 'weight2': 0.4194706446869763, 'weight3': 0.0971510261433703}. Best is trial 25 with value: 0.5027096074341544.\u001b[0m\n"
     ]
    },
    {
     "name": "stdout",
     "output_type": "stream",
     "text": [
      "dict_values([0.43996322507495467, 0.4525470221126056, 0.09191691519745475])\n"
     ]
    },
    {
     "name": "stderr",
     "output_type": "stream",
     "text": [
      "100%|██████████| 6748/6748 [00:06<00:00, 1096.80it/s]\n",
      "100%|██████████| 6748/6748 [00:06<00:00, 972.42it/s] \n",
      "100%|██████████| 6748/6748 [00:06<00:00, 1046.38it/s]\n",
      "\u001b[32m[I 2023-03-12 09:35:16,582]\u001b[0m Trial 26 finished with value: 0.49492858929945605 and parameters: {'threhold1': 0.851137696093484, 'threhold2': 0.5860799893361087, 'threhold3': 0.7287391398895166, 'weight1': 0.43996322507495467, 'weight2': 0.4525470221126056, 'weight3': 0.09191691519745475}. Best is trial 25 with value: 0.5027096074341544.\u001b[0m\n"
     ]
    },
    {
     "name": "stdout",
     "output_type": "stream",
     "text": [
      "dict_values([0.5304592392637489, 0.47955010068075055, 0.07202347327860101])\n"
     ]
    },
    {
     "name": "stderr",
     "output_type": "stream",
     "text": [
      "100%|██████████| 6748/6748 [00:06<00:00, 1059.55it/s]\n",
      "100%|██████████| 6748/6748 [00:06<00:00, 1002.15it/s]\n",
      "100%|██████████| 6748/6748 [00:06<00:00, 1028.82it/s]\n",
      "\u001b[32m[I 2023-03-12 09:35:38,991]\u001b[0m Trial 27 finished with value: 0.5020424205492464 and parameters: {'threhold1': 0.8540271462990197, 'threhold2': 0.633360644809487, 'threhold3': 0.6799272474055286, 'weight1': 0.5304592392637489, 'weight2': 0.47955010068075055, 'weight3': 0.07202347327860101}. Best is trial 25 with value: 0.5027096074341544.\u001b[0m\n"
     ]
    },
    {
     "name": "stdout",
     "output_type": "stream",
     "text": [
      "dict_values([0.48722859017110204, 0.5965787994110414, 0.08370745361603096])\n"
     ]
    },
    {
     "name": "stderr",
     "output_type": "stream",
     "text": [
      "100%|██████████| 6748/6748 [00:06<00:00, 1061.47it/s]\n",
      "100%|██████████| 6748/6748 [00:07<00:00, 947.60it/s] \n",
      "100%|██████████| 6748/6748 [00:06<00:00, 1099.86it/s]\n",
      "\u001b[32m[I 2023-03-12 09:36:01,509]\u001b[0m Trial 28 finished with value: 0.4798371686764342 and parameters: {'threhold1': 0.7723888330012393, 'threhold2': 0.5656507100608538, 'threhold3': 0.7489805704756474, 'weight1': 0.48722859017110204, 'weight2': 0.5965787994110414, 'weight3': 0.08370745361603096}. Best is trial 25 with value: 0.5027096074341544.\u001b[0m\n"
     ]
    },
    {
     "name": "stdout",
     "output_type": "stream",
     "text": [
      "dict_values([0.535019640164458, 0.47238498521088795, 0.07659318348657684])\n"
     ]
    },
    {
     "name": "stderr",
     "output_type": "stream",
     "text": [
      "100%|██████████| 6748/6748 [00:06<00:00, 1069.63it/s]\n",
      "100%|██████████| 6748/6748 [00:06<00:00, 986.26it/s] \n",
      "100%|██████████| 6748/6748 [00:06<00:00, 1042.72it/s]\n",
      "\u001b[32m[I 2023-03-12 09:36:24,150]\u001b[0m Trial 29 finished with value: 0.46699094041822087 and parameters: {'threhold1': 0.8531199760336429, 'threhold2': 0.5030636508806365, 'threhold3': 0.674196547960517, 'weight1': 0.535019640164458, 'weight2': 0.47238498521088795, 'weight3': 0.07659318348657684}. Best is trial 25 with value: 0.5027096074341544.\u001b[0m\n"
     ]
    },
    {
     "name": "stdout",
     "output_type": "stream",
     "text": [
      "dict_values([0.4265683984375859, 0.38051117579694976, 0.052146242861394826])\n"
     ]
    },
    {
     "name": "stderr",
     "output_type": "stream",
     "text": [
      "100%|██████████| 6748/6748 [00:05<00:00, 1205.10it/s]\n",
      "100%|██████████| 6748/6748 [00:06<00:00, 978.35it/s] \n",
      "100%|██████████| 6748/6748 [00:06<00:00, 1046.69it/s]\n",
      "\u001b[32m[I 2023-03-12 09:36:45,868]\u001b[0m Trial 30 finished with value: 0.5006173654985113 and parameters: {'threhold1': 0.9454861079035723, 'threhold2': 0.6277747811654873, 'threhold3': 0.7067705823783512, 'weight1': 0.4265683984375859, 'weight2': 0.38051117579694976, 'weight3': 0.052146242861394826}. Best is trial 25 with value: 0.5027096074341544.\u001b[0m\n"
     ]
    },
    {
     "name": "stdout",
     "output_type": "stream",
     "text": [
      "dict_values([0.4967014109556123, 0.40313752976526845, 0.05061745226810377])\n"
     ]
    },
    {
     "name": "stderr",
     "output_type": "stream",
     "text": [
      "100%|██████████| 6748/6748 [00:05<00:00, 1150.11it/s]\n",
      "100%|██████████| 6748/6748 [00:06<00:00, 984.44it/s] \n",
      "100%|██████████| 6748/6748 [00:06<00:00, 1046.91it/s]\n",
      "\u001b[32m[I 2023-03-12 09:37:08,110]\u001b[0m Trial 31 finished with value: 0.49994904579326405 and parameters: {'threhold1': 0.9336925273371051, 'threhold2': 0.6296750220772506, 'threhold3': 0.7157087668618105, 'weight1': 0.4967014109556123, 'weight2': 0.40313752976526845, 'weight3': 0.05061745226810377}. Best is trial 25 with value: 0.5027096074341544.\u001b[0m\n"
     ]
    },
    {
     "name": "stdout",
     "output_type": "stream",
     "text": [
      "dict_values([0.4421117774214644, 0.39988485223549725, 0.12310681435840413])\n"
     ]
    },
    {
     "name": "stderr",
     "output_type": "stream",
     "text": [
      "100%|██████████| 6748/6748 [00:06<00:00, 1075.07it/s]\n",
      "100%|██████████| 6748/6748 [00:06<00:00, 1013.89it/s]\n",
      "100%|██████████| 6748/6748 [00:06<00:00, 1079.58it/s]\n",
      "\u001b[32m[I 2023-03-12 09:37:30,073]\u001b[0m Trial 32 finished with value: 0.5028070786669492 and parameters: {'threhold1': 0.8362025652962631, 'threhold2': 0.6426039502412388, 'threhold3': 0.7453429825503518, 'weight1': 0.4421117774214644, 'weight2': 0.39988485223549725, 'weight3': 0.12310681435840413}. Best is trial 32 with value: 0.5028070786669492.\u001b[0m\n"
     ]
    },
    {
     "name": "stdout",
     "output_type": "stream",
     "text": [
      "dict_values([0.5447255221821498, 0.448459737178415, 0.12858134204641555])\n"
     ]
    },
    {
     "name": "stderr",
     "output_type": "stream",
     "text": [
      "100%|██████████| 6748/6748 [00:06<00:00, 1082.58it/s]\n",
      "100%|██████████| 6748/6748 [00:06<00:00, 1019.03it/s]\n",
      "100%|██████████| 6748/6748 [00:06<00:00, 1112.31it/s]\n",
      "\u001b[32m[I 2023-03-12 09:37:52,034]\u001b[0m Trial 33 finished with value: 0.4992908269180583 and parameters: {'threhold1': 0.8291071771622236, 'threhold2': 0.6017518383385188, 'threhold3': 0.7569478592357342, 'weight1': 0.5447255221821498, 'weight2': 0.448459737178415, 'weight3': 0.12858134204641555}. Best is trial 32 with value: 0.5028070786669492.\u001b[0m\n"
     ]
    },
    {
     "name": "stdout",
     "output_type": "stream",
     "text": [
      "dict_values([0.46267282183671093, 0.3571207164876451, 0.11574704676825723])\n"
     ]
    },
    {
     "name": "stderr",
     "output_type": "stream",
     "text": [
      "100%|██████████| 6748/6748 [00:06<00:00, 1033.42it/s]\n",
      "100%|██████████| 6748/6748 [00:06<00:00, 1002.62it/s]\n",
      "100%|██████████| 6748/6748 [00:06<00:00, 1019.01it/s]\n",
      "\u001b[32m[I 2023-03-12 09:38:14,738]\u001b[0m Trial 34 finished with value: 0.5000922812863107 and parameters: {'threhold1': 0.7740991944460616, 'threhold2': 0.645218046849562, 'threhold3': 0.665730203745923, 'weight1': 0.46267282183671093, 'weight2': 0.3571207164876451, 'weight3': 0.11574704676825723}. Best is trial 32 with value: 0.5028070786669492.\u001b[0m\n"
     ]
    },
    {
     "name": "stdout",
     "output_type": "stream",
     "text": [
      "dict_values([0.5166182509615013, 0.3922131125297816, 0.15172031037306058])\n"
     ]
    },
    {
     "name": "stderr",
     "output_type": "stream",
     "text": [
      "100%|██████████| 6748/6748 [00:06<00:00, 1044.45it/s]\n",
      "100%|██████████| 6748/6748 [00:06<00:00, 1064.44it/s]\n",
      "100%|██████████| 6748/6748 [00:06<00:00, 1089.80it/s]\n",
      "\u001b[32m[I 2023-03-12 09:38:36,632]\u001b[0m Trial 35 finished with value: 0.49719880588785614 and parameters: {'threhold1': 0.8340520211413143, 'threhold2': 0.6999982666790454, 'threhold3': 0.7334787021843524, 'weight1': 0.5166182509615013, 'weight2': 0.3922131125297816, 'weight3': 0.15172031037306058}. Best is trial 32 with value: 0.5028070786669492.\u001b[0m\n"
     ]
    },
    {
     "name": "stdout",
     "output_type": "stream",
     "text": [
      "dict_values([0.4868104707328619, 0.49580584123118865, 0.16869969169235388])\n"
     ]
    },
    {
     "name": "stderr",
     "output_type": "stream",
     "text": [
      "100%|██████████| 6748/6748 [00:06<00:00, 1089.47it/s]\n",
      "100%|██████████| 6748/6748 [00:06<00:00, 1004.71it/s]\n",
      "100%|██████████| 6748/6748 [00:06<00:00, 1081.63it/s]\n",
      "\u001b[32m[I 2023-03-12 09:38:58,580]\u001b[0m Trial 36 finished with value: 0.49967014365396634 and parameters: {'threhold1': 0.8776010175429649, 'threhold2': 0.6050845650588472, 'threhold3': 0.7808249331117136, 'weight1': 0.4868104707328619, 'weight2': 0.49580584123118865, 'weight3': 0.16869969169235388}. Best is trial 32 with value: 0.5028070786669492.\u001b[0m\n"
     ]
    },
    {
     "name": "stdout",
     "output_type": "stream",
     "text": [
      "dict_values([0.4020337691728769, 0.44149462783473825, 0.09802104238332385])\n"
     ]
    },
    {
     "name": "stderr",
     "output_type": "stream",
     "text": [
      "100%|██████████| 6748/6748 [00:06<00:00, 1057.03it/s]\n",
      "100%|██████████| 6748/6748 [00:06<00:00, 1033.35it/s]\n",
      "100%|██████████| 6748/6748 [00:06<00:00, 1059.52it/s]\n",
      "\u001b[32m[I 2023-03-12 09:39:20,862]\u001b[0m Trial 37 finished with value: 0.49707113773479655 and parameters: {'threhold1': 0.7376728978292074, 'threhold2': 0.6519104916961262, 'threhold3': 0.6960655673499708, 'weight1': 0.4020337691728769, 'weight2': 0.44149462783473825, 'weight3': 0.09802104238332385}. Best is trial 32 with value: 0.5028070786669492.\u001b[0m\n"
     ]
    },
    {
     "name": "stdout",
     "output_type": "stream",
     "text": [
      "dict_values([0.45713174758186875, 0.4173723247232779, 0.1451440985806877])\n"
     ]
    },
    {
     "name": "stderr",
     "output_type": "stream",
     "text": [
      "100%|██████████| 6748/6748 [00:06<00:00, 1037.66it/s]\n",
      "100%|██████████| 6748/6748 [00:06<00:00, 1053.58it/s]\n",
      "100%|██████████| 6748/6748 [00:06<00:00, 1044.33it/s]\n",
      "\u001b[32m[I 2023-03-12 09:39:43,612]\u001b[0m Trial 38 finished with value: 0.4973137134498628 and parameters: {'threhold1': 0.7834897573987926, 'threhold2': 0.7492717184567647, 'threhold3': 0.6618867308214519, 'weight1': 0.45713174758186875, 'weight2': 0.4173723247232779, 'weight3': 0.1451440985806877}. Best is trial 32 with value: 0.5028070786669492.\u001b[0m\n"
     ]
    },
    {
     "name": "stdout",
     "output_type": "stream",
     "text": [
      "dict_values([0.5546643408588839, 0.37663548006126424, 0.06459376022525902])\n"
     ]
    },
    {
     "name": "stderr",
     "output_type": "stream",
     "text": [
      "100%|██████████| 6748/6748 [00:06<00:00, 1101.07it/s]\n",
      "100%|██████████| 6748/6748 [00:06<00:00, 1076.47it/s]\n",
      "100%|██████████| 6748/6748 [00:06<00:00, 1123.05it/s]\n",
      "\u001b[32m[I 2023-03-12 09:40:04,919]\u001b[0m Trial 39 finished with value: 0.49390789408785885 and parameters: {'threhold1': 0.8369129232301497, 'threhold2': 0.6998216135110189, 'threhold3': 0.7396474969227698, 'weight1': 0.5546643408588839, 'weight2': 0.37663548006126424, 'weight3': 0.06459376022525902}. Best is trial 32 with value: 0.5028070786669492.\u001b[0m\n"
     ]
    },
    {
     "name": "stdout",
     "output_type": "stream",
     "text": [
      "dict_values([0.5122945272577232, 0.48811096019738764, 0.03178179963277264])\n"
     ]
    },
    {
     "name": "stderr",
     "output_type": "stream",
     "text": [
      "100%|██████████| 6748/6748 [00:06<00:00, 1050.84it/s]\n",
      "100%|██████████| 6748/6748 [00:06<00:00, 1000.08it/s]\n",
      "100%|██████████| 6748/6748 [00:06<00:00, 1119.12it/s]\n",
      "\u001b[32m[I 2023-03-12 09:40:27,321]\u001b[0m Trial 40 finished with value: 0.4929683877970701 and parameters: {'threhold1': 0.7353111377697176, 'threhold2': 0.6476021629336957, 'threhold3': 0.7769612853060915, 'weight1': 0.5122945272577232, 'weight2': 0.48811096019738764, 'weight3': 0.03178179963277264}. Best is trial 32 with value: 0.5028070786669492.\u001b[0m\n"
     ]
    },
    {
     "name": "stdout",
     "output_type": "stream",
     "text": [
      "dict_values([0.41294579203494636, 0.3782891239675217, 0.05448700047010902])\n"
     ]
    },
    {
     "name": "stderr",
     "output_type": "stream",
     "text": [
      "100%|██████████| 6748/6748 [00:06<00:00, 1104.87it/s]\n",
      "100%|██████████| 6748/6748 [00:06<00:00, 1000.56it/s]\n",
      "100%|██████████| 6748/6748 [00:06<00:00, 1035.26it/s]\n",
      "\u001b[32m[I 2023-03-12 09:40:49,284]\u001b[0m Trial 41 finished with value: 0.49992079322257477 and parameters: {'threhold1': 0.8747955273670771, 'threhold2': 0.6167106769923385, 'threhold3': 0.7034772835166607, 'weight1': 0.41294579203494636, 'weight2': 0.3782891239675217, 'weight3': 0.05448700047010902}. Best is trial 32 with value: 0.5028070786669492.\u001b[0m\n"
     ]
    },
    {
     "name": "stdout",
     "output_type": "stream",
     "text": [
      "dict_values([0.3664447835948929, 0.3369029572476144, 0.09709278446247688])\n"
     ]
    },
    {
     "name": "stderr",
     "output_type": "stream",
     "text": [
      "100%|██████████| 6748/6748 [00:05<00:00, 1172.21it/s]\n",
      "100%|██████████| 6748/6748 [00:06<00:00, 1009.13it/s]\n",
      "100%|██████████| 6748/6748 [00:06<00:00, 1057.32it/s]\n",
      "\u001b[32m[I 2023-03-12 09:41:11,131]\u001b[0m Trial 42 finished with value: 0.5024517550095479 and parameters: {'threhold1': 0.9417165985393893, 'threhold2': 0.6375199433114345, 'threhold3': 0.7176017936453215, 'weight1': 0.3664447835948929, 'weight2': 0.3369029572476144, 'weight3': 0.09709278446247688}. Best is trial 32 with value: 0.5028070786669492.\u001b[0m\n"
     ]
    },
    {
     "name": "stdout",
     "output_type": "stream",
     "text": [
      "dict_values([0.3476168051246477, 0.3313669792616702, 0.0985736190585358])\n"
     ]
    },
    {
     "name": "stderr",
     "output_type": "stream",
     "text": [
      "100%|██████████| 6748/6748 [00:05<00:00, 1154.84it/s]\n",
      "100%|██████████| 6748/6748 [00:06<00:00, 987.74it/s] \n",
      "100%|██████████| 6748/6748 [00:06<00:00, 1047.21it/s]\n",
      "\u001b[32m[I 2023-03-12 09:41:33,012]\u001b[0m Trial 43 finished with value: 0.4969501515178049 and parameters: {'threhold1': 0.9136184315356339, 'threhold2': 0.5873430830300932, 'threhold3': 0.7258488124594488, 'weight1': 0.3476168051246477, 'weight2': 0.3313669792616702, 'weight3': 0.0985736190585358}. Best is trial 32 with value: 0.5028070786669492.\u001b[0m\n"
     ]
    },
    {
     "name": "stdout",
     "output_type": "stream",
     "text": [
      "dict_values([0.4639606402811577, 0.42828773759854144, 0.12419336659747013])\n"
     ]
    },
    {
     "name": "stderr",
     "output_type": "stream",
     "text": [
      "100%|██████████| 6748/6748 [00:06<00:00, 1045.89it/s]\n",
      "100%|██████████| 6748/6748 [00:06<00:00, 983.03it/s] \n",
      "100%|██████████| 6748/6748 [00:06<00:00, 1039.70it/s]\n",
      "\u001b[32m[I 2023-03-12 09:41:55,629]\u001b[0m Trial 44 finished with value: 0.5040496364560092 and parameters: {'threhold1': 0.8355433795948928, 'threhold2': 0.6501772923088199, 'threhold3': 0.6790793649487584, 'weight1': 0.4639606402811577, 'weight2': 0.42828773759854144, 'weight3': 0.12419336659747013}. Best is trial 44 with value: 0.5040496364560092.\u001b[0m\n"
     ]
    },
    {
     "name": "stdout",
     "output_type": "stream",
     "text": [
      "dict_values([0.38675214767201727, 0.42821739865948927, 0.13669364596259206])\n"
     ]
    },
    {
     "name": "stderr",
     "output_type": "stream",
     "text": [
      "100%|██████████| 6748/6748 [00:06<00:00, 1071.64it/s]\n",
      "100%|██████████| 6748/6748 [00:06<00:00, 1042.24it/s]\n",
      "100%|██████████| 6748/6748 [00:06<00:00, 1082.60it/s]\n",
      "\u001b[32m[I 2023-03-12 09:42:17,699]\u001b[0m Trial 45 finished with value: 0.4992500642904815 and parameters: {'threhold1': 0.8014520058088482, 'threhold2': 0.6973952774250319, 'threhold3': 0.7607478912530593, 'weight1': 0.38675214767201727, 'weight2': 0.42821739865948927, 'weight3': 0.13669364596259206}. Best is trial 44 with value: 0.5040496364560092.\u001b[0m\n"
     ]
    },
    {
     "name": "stdout",
     "output_type": "stream",
     "text": [
      "dict_values([0.47041257546270615, 0.4026934711586971, 0.0011151107086729006])\n"
     ]
    },
    {
     "name": "stderr",
     "output_type": "stream",
     "text": [
      "100%|██████████| 6748/6748 [00:06<00:00, 1062.34it/s]\n",
      "100%|██████████| 6748/6748 [00:06<00:00, 1012.70it/s]\n",
      "100%|██████████| 6748/6748 [00:06<00:00, 1014.37it/s]\n",
      "\u001b[32m[I 2023-03-12 09:42:40,426]\u001b[0m Trial 46 finished with value: 0.49613221268446406 and parameters: {'threhold1': 0.8337769118147149, 'threhold2': 0.7225823030613313, 'threhold3': 0.6513368339996672, 'weight1': 0.47041257546270615, 'weight2': 0.4026934711586971, 'weight3': 0.0011151107086729006}. Best is trial 44 with value: 0.5040496364560092.\u001b[0m\n"
     ]
    },
    {
     "name": "stdout",
     "output_type": "stream",
     "text": [
      "dict_values([0.4276752636202195, 0.34605117749502406, 0.11927751380933027])\n"
     ]
    },
    {
     "name": "stderr",
     "output_type": "stream",
     "text": [
      "100%|██████████| 6748/6748 [00:05<00:00, 1209.65it/s]\n",
      "100%|██████████| 6748/6748 [00:06<00:00, 1073.76it/s]\n",
      "100%|██████████| 6748/6748 [00:06<00:00, 1024.37it/s]\n",
      "\u001b[32m[I 2023-03-12 09:43:01,617]\u001b[0m Trial 47 finished with value: 0.4877304906373702 and parameters: {'threhold1': 0.9449665343225873, 'threhold2': 0.7692240917396703, 'threhold3': 0.6931976778008055, 'weight1': 0.4276752636202195, 'weight2': 0.34605117749502406, 'weight3': 0.11927751380933027}. Best is trial 44 with value: 0.5040496364560092.\u001b[0m\n"
     ]
    },
    {
     "name": "stdout",
     "output_type": "stream",
     "text": [
      "dict_values([0.36306876628853285, 0.5195861676152524, 0.024404119799131554])\n"
     ]
    },
    {
     "name": "stderr",
     "output_type": "stream",
     "text": [
      "100%|██████████| 6748/6748 [00:06<00:00, 1004.93it/s]\n",
      "100%|██████████| 6748/6748 [00:07<00:00, 932.51it/s] \n",
      "100%|██████████| 6748/6748 [00:06<00:00, 1070.38it/s]\n",
      "\u001b[32m[I 2023-03-12 09:43:24,863]\u001b[0m Trial 48 finished with value: 0.483891445664209 and parameters: {'threhold1': 0.7952237355708919, 'threhold2': 0.61373923275228, 'threhold3': 0.7130941732531416, 'weight1': 0.36306876628853285, 'weight2': 0.5195861676152524, 'weight3': 0.024404119799131554}. Best is trial 44 with value: 0.5040496364560092.\u001b[0m\n"
     ]
    },
    {
     "name": "stdout",
     "output_type": "stream",
     "text": [
      "dict_values([0.44932127347122247, 0.42699896582135355, 0.14744168909207445])\n"
     ]
    },
    {
     "name": "stderr",
     "output_type": "stream",
     "text": [
      "100%|██████████| 6748/6748 [00:06<00:00, 1056.25it/s]\n",
      "100%|██████████| 6748/6748 [00:06<00:00, 1008.90it/s]\n",
      "100%|██████████| 6748/6748 [00:05<00:00, 1192.33it/s]\n",
      "\u001b[32m[I 2023-03-12 09:43:46,534]\u001b[0m Trial 49 finished with value: 0.4976778032122933 and parameters: {'threhold1': 0.8240631096813649, 'threhold2': 0.6896999991226322, 'threhold3': 0.8239876680328039, 'weight1': 0.44932127347122247, 'weight2': 0.42699896582135355, 'weight3': 0.14744168909207445}. Best is trial 44 with value: 0.5040496364560092.\u001b[0m\n"
     ]
    },
    {
     "name": "stdout",
     "output_type": "stream",
     "text": [
      "dict_values([0.3175603615384501, 0.4618741621046298, 0.0688736082398822])\n"
     ]
    },
    {
     "name": "stderr",
     "output_type": "stream",
     "text": [
      "100%|██████████| 6748/6748 [00:06<00:00, 1087.67it/s]\n",
      "100%|██████████| 6748/6748 [00:06<00:00, 996.50it/s] \n",
      "100%|██████████| 6748/6748 [00:06<00:00, 1029.82it/s]\n",
      "\u001b[32m[I 2023-03-12 09:44:09,107]\u001b[0m Trial 50 finished with value: 0.4953009796273263 and parameters: {'threhold1': 0.8858406115856028, 'threhold2': 0.640112144286703, 'threhold3': 0.6504910940648693, 'weight1': 0.3175603615384501, 'weight2': 0.4618741621046298, 'weight3': 0.0688736082398822}. Best is trial 44 with value: 0.5040496364560092.\u001b[0m\n"
     ]
    },
    {
     "name": "stdout",
     "output_type": "stream",
     "text": [
      "dict_values([0.5622528354239862, 0.35351207877096763, 0.11034208372797048])\n"
     ]
    },
    {
     "name": "stderr",
     "output_type": "stream",
     "text": [
      "100%|██████████| 6748/6748 [00:06<00:00, 1090.33it/s]\n",
      "100%|██████████| 6748/6748 [00:06<00:00, 1016.48it/s]\n",
      "100%|██████████| 6748/6748 [00:06<00:00, 1079.63it/s]\n",
      "\u001b[32m[I 2023-03-12 09:44:31,098]\u001b[0m Trial 51 finished with value: 0.5004077799715642 and parameters: {'threhold1': 0.8549490831401494, 'threhold2': 0.658956147662124, 'threhold3': 0.6823078115747525, 'weight1': 0.5622528354239862, 'weight2': 0.35351207877096763, 'weight3': 0.11034208372797048}. Best is trial 44 with value: 0.5040496364560092.\u001b[0m\n"
     ]
    },
    {
     "name": "stdout",
     "output_type": "stream",
     "text": [
      "dict_values([0.5107862429851963, 0.43699531791416857, 0.0811552882421531])\n"
     ]
    },
    {
     "name": "stderr",
     "output_type": "stream",
     "text": [
      "100%|██████████| 6748/6748 [00:05<00:00, 1161.85it/s]\n",
      "100%|██████████| 6748/6748 [00:06<00:00, 1014.60it/s]\n",
      "100%|██████████| 6748/6748 [00:06<00:00, 1078.94it/s]\n",
      "\u001b[32m[I 2023-03-12 09:44:52,702]\u001b[0m Trial 52 finished with value: 0.5015382519151348 and parameters: {'threhold1': 0.9114304107273833, 'threhold2': 0.6368750217111222, 'threhold3': 0.7236455174041684, 'weight1': 0.5107862429851963, 'weight2': 0.43699531791416857, 'weight3': 0.0811552882421531}. Best is trial 44 with value: 0.5040496364560092.\u001b[0m\n"
     ]
    },
    {
     "name": "stdout",
     "output_type": "stream",
     "text": [
      "dict_values([0.5139788632526762, 0.4382534496911189, 0.03185932611744963])\n"
     ]
    },
    {
     "name": "stderr",
     "output_type": "stream",
     "text": [
      "100%|██████████| 6748/6748 [00:05<00:00, 1131.34it/s]\n",
      "100%|██████████| 6748/6748 [00:06<00:00, 1034.85it/s]\n",
      "100%|██████████| 6748/6748 [00:06<00:00, 1099.04it/s]\n",
      "\u001b[32m[I 2023-03-12 09:45:14,120]\u001b[0m Trial 53 finished with value: 0.49915361029982075 and parameters: {'threhold1': 0.8945142968698129, 'threhold2': 0.6336753261489527, 'threhold3': 0.7424710887851472, 'weight1': 0.5139788632526762, 'weight2': 0.4382534496911189, 'weight3': 0.03185932611744963}. Best is trial 44 with value: 0.5040496364560092.\u001b[0m\n"
     ]
    },
    {
     "name": "stdout",
     "output_type": "stream",
     "text": [
      "dict_values([0.4716774611471878, 0.4016681251570878, 0.16404786804053845])\n"
     ]
    },
    {
     "name": "stderr",
     "output_type": "stream",
     "text": [
      "100%|██████████| 6748/6748 [00:06<00:00, 1093.49it/s]\n",
      "100%|██████████| 6748/6748 [00:06<00:00, 1044.19it/s]\n",
      "100%|██████████| 6748/6748 [00:06<00:00, 1039.06it/s]\n",
      "\u001b[32m[I 2023-03-12 09:45:36,140]\u001b[0m Trial 54 finished with value: 0.5014824918858427 and parameters: {'threhold1': 0.9127322612799649, 'threhold2': 0.6764105846969374, 'threhold3': 0.7136481751792111, 'weight1': 0.4716774611471878, 'weight2': 0.4016681251570878, 'weight3': 0.16404786804053845}. Best is trial 44 with value: 0.5040496364560092.\u001b[0m\n"
     ]
    },
    {
     "name": "stdout",
     "output_type": "stream",
     "text": [
      "dict_values([0.3993864291935905, 0.468871416905111, 0.1216432582783455])\n"
     ]
    },
    {
     "name": "stderr",
     "output_type": "stream",
     "text": [
      "100%|██████████| 6748/6748 [00:06<00:00, 1113.34it/s]\n",
      "100%|██████████| 6748/6748 [00:06<00:00, 1009.13it/s]\n",
      "100%|██████████| 6748/6748 [00:06<00:00, 1109.22it/s]\n",
      "\u001b[32m[I 2023-03-12 09:45:57,750]\u001b[0m Trial 55 finished with value: 0.49820376191130056 and parameters: {'threhold1': 0.8789130056790736, 'threhold2': 0.6093423011903549, 'threhold3': 0.790415585415984, 'weight1': 0.3993864291935905, 'weight2': 0.468871416905111, 'weight3': 0.1216432582783455}. Best is trial 44 with value: 0.5040496364560092.\u001b[0m\n"
     ]
    },
    {
     "name": "stdout",
     "output_type": "stream",
     "text": [
      "dict_values([0.43372528618936207, 0.41744972028955935, 0.07190867296957722])\n"
     ]
    },
    {
     "name": "stderr",
     "output_type": "stream",
     "text": [
      "100%|██████████| 6748/6748 [00:05<00:00, 1139.26it/s]\n",
      "100%|██████████| 6748/6748 [00:06<00:00, 1041.22it/s]\n",
      "100%|██████████| 6748/6748 [00:06<00:00, 1088.64it/s]\n",
      "\u001b[32m[I 2023-03-12 09:46:19,133]\u001b[0m Trial 56 finished with value: 0.49754627053438355 and parameters: {'threhold1': 0.9147711889759659, 'threhold2': 0.6782341730678481, 'threhold3': 0.761625686056116, 'weight1': 0.43372528618936207, 'weight2': 0.41744972028955935, 'weight3': 0.07190867296957722}. Best is trial 44 with value: 0.5040496364560092.\u001b[0m\n"
     ]
    },
    {
     "name": "stdout",
     "output_type": "stream",
     "text": [
      "dict_values([0.5012841567950115, 0.4859584750455749, 0.047200881563638])\n"
     ]
    },
    {
     "name": "stderr",
     "output_type": "stream",
     "text": [
      "100%|██████████| 6748/6748 [00:06<00:00, 1048.52it/s]\n",
      "100%|██████████| 6748/6748 [00:06<00:00, 976.60it/s] \n",
      "100%|██████████| 6748/6748 [00:06<00:00, 1088.84it/s]\n",
      "\u001b[32m[I 2023-03-12 09:46:41,463]\u001b[0m Trial 57 finished with value: 0.4805430071464628 and parameters: {'threhold1': 0.8079111726237662, 'threhold2': 0.5562002015472034, 'threhold3': 0.6944486522030456, 'weight1': 0.5012841567950115, 'weight2': 0.4859584750455749, 'weight3': 0.047200881563638}. Best is trial 44 with value: 0.5040496364560092.\u001b[0m\n"
     ]
    },
    {
     "name": "stdout",
     "output_type": "stream",
     "text": [
      "dict_values([0.575027163606233, 0.3905417684687583, 0.19597029301061641])\n"
     ]
    },
    {
     "name": "stderr",
     "output_type": "stream",
     "text": [
      "100%|██████████| 6748/6748 [00:05<00:00, 1132.43it/s]\n",
      "100%|██████████| 6748/6748 [00:06<00:00, 1025.99it/s]\n",
      "100%|██████████| 6748/6748 [00:06<00:00, 1080.80it/s]\n",
      "\u001b[32m[I 2023-03-12 09:47:03,014]\u001b[0m Trial 58 finished with value: 0.5007408982729905 and parameters: {'threhold1': 0.903596505984809, 'threhold2': 0.6234751843229343, 'threhold3': 0.7263555627844016, 'weight1': 0.575027163606233, 'weight2': 0.3905417684687583, 'weight3': 0.19597029301061641}. Best is trial 44 with value: 0.5040496364560092.\u001b[0m\n"
     ]
    },
    {
     "name": "stdout",
     "output_type": "stream",
     "text": [
      "dict_values([0.5205411436912859, 0.4446982028027366, 0.08758363317771058])\n"
     ]
    },
    {
     "name": "stderr",
     "output_type": "stream",
     "text": [
      "100%|██████████| 6748/6748 [00:05<00:00, 1221.33it/s]\n",
      "100%|██████████| 6748/6748 [00:06<00:00, 1017.02it/s]\n",
      "100%|██████████| 6748/6748 [00:06<00:00, 1050.34it/s]\n",
      "\u001b[32m[I 2023-03-12 09:47:24,489]\u001b[0m Trial 59 finished with value: 0.49663397701809936 and parameters: {'threhold1': 0.9574918260611609, 'threhold2': 0.5966386976649569, 'threhold3': 0.6640059606602213, 'weight1': 0.5205411436912859, 'weight2': 0.4446982028027366, 'weight3': 0.08758363317771058}. Best is trial 44 with value: 0.5040496364560092.\u001b[0m\n"
     ]
    },
    {
     "name": "stdout",
     "output_type": "stream",
     "text": [
      "dict_values([0.5274631372581345, 0.5116026470201386, 0.012724819273834037])\n"
     ]
    },
    {
     "name": "stderr",
     "output_type": "stream",
     "text": [
      "100%|██████████| 6748/6748 [00:06<00:00, 1084.36it/s]\n",
      "100%|██████████| 6748/6748 [00:06<00:00, 1046.90it/s]\n",
      "100%|██████████| 6748/6748 [00:06<00:00, 1071.53it/s]\n",
      "\u001b[32m[I 2023-03-12 09:47:46,238]\u001b[0m Trial 60 finished with value: 0.49949201216839534 and parameters: {'threhold1': 0.8677217046002773, 'threhold2': 0.653901845782346, 'threhold3': 0.7472252307032363, 'weight1': 0.5274631372581345, 'weight2': 0.5116026470201386, 'weight3': 0.012724819273834037}. Best is trial 44 with value: 0.5040496364560092.\u001b[0m\n"
     ]
    },
    {
     "name": "stdout",
     "output_type": "stream",
     "text": [
      "dict_values([0.47214247386654706, 0.4109836025344488, 0.17002529759840726])\n"
     ]
    },
    {
     "name": "stderr",
     "output_type": "stream",
     "text": [
      "100%|██████████| 6748/6748 [00:05<00:00, 1163.85it/s]\n",
      "100%|██████████| 6748/6748 [00:06<00:00, 1038.20it/s]\n",
      "100%|██████████| 6748/6748 [00:06<00:00, 1076.86it/s]\n",
      "\u001b[32m[I 2023-03-12 09:48:07,404]\u001b[0m Trial 61 finished with value: 0.5011463323312451 and parameters: {'threhold1': 0.9243505159101777, 'threhold2': 0.6706975434356176, 'threhold3': 0.7162303941610588, 'weight1': 0.47214247386654706, 'weight2': 0.4109836025344488, 'weight3': 0.17002529759840726}. Best is trial 44 with value: 0.5040496364560092.\u001b[0m\n"
     ]
    },
    {
     "name": "stdout",
     "output_type": "stream",
     "text": [
      "dict_values([0.4782735580617332, 0.4621846924096127, 0.15274162280987225])\n"
     ]
    },
    {
     "name": "stderr",
     "output_type": "stream",
     "text": [
      "100%|██████████| 6748/6748 [00:06<00:00, 1123.98it/s]\n",
      "100%|██████████| 6748/6748 [00:06<00:00, 1057.20it/s]\n",
      "100%|██████████| 6748/6748 [00:06<00:00, 1053.91it/s]\n",
      "\u001b[32m[I 2023-03-12 09:48:29,036]\u001b[0m Trial 62 finished with value: 0.5039291249410336 and parameters: {'threhold1': 0.9107152977211533, 'threhold2': 0.6821713833611492, 'threhold3': 0.6872282398492685, 'weight1': 0.4782735580617332, 'weight2': 0.4621846924096127, 'weight3': 0.15274162280987225}. Best is trial 44 with value: 0.5040496364560092.\u001b[0m\n"
     ]
    },
    {
     "name": "stdout",
     "output_type": "stream",
     "text": [
      "dict_values([0.485099532931082, 0.47627363768513525, 0.13224506723767981])\n"
     ]
    },
    {
     "name": "stderr",
     "output_type": "stream",
     "text": [
      "100%|██████████| 6748/6748 [00:05<00:00, 1161.16it/s]\n",
      "100%|██████████| 6748/6748 [00:06<00:00, 1027.73it/s]\n",
      "100%|██████████| 6748/6748 [00:06<00:00, 1025.95it/s]\n",
      "\u001b[32m[I 2023-03-12 09:48:50,782]\u001b[0m Trial 63 finished with value: 0.5027311874362957 and parameters: {'threhold1': 0.9332242254142543, 'threhold2': 0.6342050412581763, 'threhold3': 0.6772055139120535, 'weight1': 0.485099532931082, 'weight2': 0.47627363768513525, 'weight3': 0.13224506723767981}. Best is trial 44 with value: 0.5040496364560092.\u001b[0m\n"
     ]
    },
    {
     "name": "stdout",
     "output_type": "stream",
     "text": [
      "dict_values([0.44381464981450036, 0.5408275766376515, 0.14883325612190748])\n"
     ]
    },
    {
     "name": "stderr",
     "output_type": "stream",
     "text": [
      "100%|██████████| 6748/6748 [00:05<00:00, 1182.20it/s]\n",
      "100%|██████████| 6748/6748 [00:06<00:00, 1038.16it/s]\n",
      "100%|██████████| 6748/6748 [00:06<00:00, 1048.80it/s]\n",
      "\u001b[32m[I 2023-03-12 09:49:12,413]\u001b[0m Trial 64 finished with value: 0.4985015999011261 and parameters: {'threhold1': 0.9314582029317816, 'threhold2': 0.6178373898495163, 'threhold3': 0.6439575459182576, 'weight1': 0.44381464981450036, 'weight2': 0.5408275766376515, 'weight3': 0.14883325612190748}. Best is trial 44 with value: 0.5040496364560092.\u001b[0m\n"
     ]
    },
    {
     "name": "stdout",
     "output_type": "stream",
     "text": [
      "dict_values([0.48760756534787775, 0.4730307800544816, 0.2101324664175571])\n"
     ]
    },
    {
     "name": "stderr",
     "output_type": "stream",
     "text": [
      "100%|██████████| 6748/6748 [00:05<00:00, 1274.55it/s]\n",
      "100%|██████████| 6748/6748 [00:06<00:00, 1047.73it/s]\n",
      "100%|██████████| 6748/6748 [00:06<00:00, 1083.42it/s]\n",
      "\u001b[32m[I 2023-03-12 09:49:33,449]\u001b[0m Trial 65 finished with value: 0.5029027134061956 and parameters: {'threhold1': 0.9685811450521308, 'threhold2': 0.663158066245556, 'threhold3': 0.6852366294938078, 'weight1': 0.48760756534787775, 'weight2': 0.4730307800544816, 'weight3': 0.2101324664175571}. Best is trial 44 with value: 0.5040496364560092.\u001b[0m\n"
     ]
    },
    {
     "name": "stdout",
     "output_type": "stream",
     "text": [
      "dict_values([0.4822214535140896, 0.4979179476574068, 0.19221304737073572])\n"
     ]
    },
    {
     "name": "stderr",
     "output_type": "stream",
     "text": [
      "100%|██████████| 6748/6748 [00:04<00:00, 1365.66it/s]\n",
      "100%|██████████| 6748/6748 [00:06<00:00, 1046.50it/s]\n",
      "100%|██████████| 6748/6748 [00:06<00:00, 1064.25it/s]\n",
      "\u001b[32m[I 2023-03-12 09:49:54,081]\u001b[0m Trial 66 finished with value: 0.5026633577539821 and parameters: {'threhold1': 0.9885437435942578, 'threhold2': 0.661311069869086, 'threhold3': 0.6876404370357628, 'weight1': 0.4822214535140896, 'weight2': 0.4979179476574068, 'weight3': 0.19221304737073572}. Best is trial 44 with value: 0.5040496364560092.\u001b[0m\n"
     ]
    },
    {
     "name": "stdout",
     "output_type": "stream",
     "text": [
      "dict_values([0.490363742960217, 0.45636239749076163, 0.21223602521786666])\n"
     ]
    },
    {
     "name": "stderr",
     "output_type": "stream",
     "text": [
      "100%|██████████| 6748/6748 [00:05<00:00, 1344.62it/s]\n",
      "100%|██████████| 6748/6748 [00:06<00:00, 1066.29it/s]\n",
      "100%|██████████| 6748/6748 [00:06<00:00, 1065.76it/s]\n",
      "\u001b[32m[I 2023-03-12 09:50:14,635]\u001b[0m Trial 67 finished with value: 0.4979327559574843 and parameters: {'threhold1': 0.9845919918380057, 'threhold2': 0.7117653255680955, 'threhold3': 0.6936257357833774, 'weight1': 0.490363742960217, 'weight2': 0.45636239749076163, 'weight3': 0.21223602521786666}. Best is trial 44 with value: 0.5040496364560092.\u001b[0m\n"
     ]
    },
    {
     "name": "stdout",
     "output_type": "stream",
     "text": [
      "dict_values([0.47717628253098887, 0.5034513695912459, 0.18618721908971922])\n"
     ]
    },
    {
     "name": "stderr",
     "output_type": "stream",
     "text": [
      "100%|██████████| 6748/6748 [00:05<00:00, 1279.49it/s]\n",
      "100%|██████████| 6748/6748 [00:06<00:00, 1043.71it/s]\n",
      "100%|██████████| 6748/6748 [00:06<00:00, 1027.20it/s]\n",
      "\u001b[32m[I 2023-03-12 09:50:35,619]\u001b[0m Trial 68 finished with value: 0.5032077680015005 and parameters: {'threhold1': 0.9651289197469112, 'threhold2': 0.6627122185798731, 'threhold3': 0.6218144921668793, 'weight1': 0.47717628253098887, 'weight2': 0.5034513695912459, 'weight3': 0.18618721908971922}. Best is trial 44 with value: 0.5040496364560092.\u001b[0m\n"
     ]
    },
    {
     "name": "stdout",
     "output_type": "stream",
     "text": [
      "dict_values([0.4612989870954505, 0.47027482785086705, 0.2152274967606092])\n"
     ]
    },
    {
     "name": "stderr",
     "output_type": "stream",
     "text": [
      "100%|██████████| 6748/6748 [00:05<00:00, 1278.68it/s]\n",
      "100%|██████████| 6748/6748 [00:06<00:00, 1027.01it/s]\n",
      "100%|██████████| 6748/6748 [00:06<00:00, 1030.91it/s]\n",
      "\u001b[32m[I 2023-03-12 09:50:56,865]\u001b[0m Trial 69 finished with value: 0.5040684325094519 and parameters: {'threhold1': 0.9644684302736917, 'threhold2': 0.6868873182333001, 'threhold3': 0.6097531442724001, 'weight1': 0.4612989870954505, 'weight2': 0.47027482785086705, 'weight3': 0.2152274967606092}. Best is trial 69 with value: 0.5040684325094519.\u001b[0m\n"
     ]
    },
    {
     "name": "stdout",
     "output_type": "stream",
     "text": [
      "dict_values([0.46058823783971475, 0.5099016405881784, 0.20781025200032957])\n"
     ]
    },
    {
     "name": "stderr",
     "output_type": "stream",
     "text": [
      "100%|██████████| 6748/6748 [00:05<00:00, 1268.27it/s]\n",
      "100%|██████████| 6748/6748 [00:06<00:00, 1065.98it/s]\n",
      "100%|██████████| 6748/6748 [00:06<00:00, 1057.77it/s]\n",
      "\u001b[32m[I 2023-03-12 09:51:17,913]\u001b[0m Trial 70 finished with value: 0.50506165580307 and parameters: {'threhold1': 0.9626301606621246, 'threhold2': 0.6920724347761109, 'threhold3': 0.6421247354553022, 'weight1': 0.46058823783971475, 'weight2': 0.5099016405881784, 'weight3': 0.20781025200032957}. Best is trial 70 with value: 0.50506165580307.\u001b[0m\n"
     ]
    },
    {
     "name": "stdout",
     "output_type": "stream",
     "text": [
      "dict_values([0.45994153273139154, 0.509028719811754, 0.21388364603276203])\n"
     ]
    },
    {
     "name": "stderr",
     "output_type": "stream",
     "text": [
      "100%|██████████| 6748/6748 [00:05<00:00, 1283.86it/s]\n",
      "100%|██████████| 6748/6748 [00:06<00:00, 1041.76it/s]\n",
      "100%|██████████| 6748/6748 [00:06<00:00, 1034.44it/s]\n",
      "\u001b[32m[I 2023-03-12 09:51:38,710]\u001b[0m Trial 71 finished with value: 0.5039281322656889 and parameters: {'threhold1': 0.962349268886121, 'threhold2': 0.6889389770414566, 'threhold3': 0.6242705199824271, 'weight1': 0.45994153273139154, 'weight2': 0.509028719811754, 'weight3': 0.21388364603276203}. Best is trial 70 with value: 0.50506165580307.\u001b[0m\n"
     ]
    },
    {
     "name": "stdout",
     "output_type": "stream",
     "text": [
      "dict_values([0.4589701557012512, 0.5135549274813713, 0.224124507099753])\n"
     ]
    },
    {
     "name": "stderr",
     "output_type": "stream",
     "text": [
      "100%|██████████| 6748/6748 [00:05<00:00, 1286.69it/s]\n",
      "100%|██████████| 6748/6748 [00:06<00:00, 1086.46it/s]\n",
      "100%|██████████| 6748/6748 [00:06<00:00, 1049.97it/s]\n",
      "\u001b[32m[I 2023-03-12 09:51:59,596]\u001b[0m Trial 72 finished with value: 0.5017537695793146 and parameters: {'threhold1': 0.9670704680030423, 'threhold2': 0.7294761987249682, 'threhold3': 0.6139585753702672, 'weight1': 0.4589701557012512, 'weight2': 0.5135549274813713, 'weight3': 0.224124507099753}. Best is trial 70 with value: 0.50506165580307.\u001b[0m\n"
     ]
    },
    {
     "name": "stdout",
     "output_type": "stream",
     "text": [
      "dict_values([0.4221007587103303, 0.527349523859521, 0.18216237642160266])\n"
     ]
    },
    {
     "name": "stderr",
     "output_type": "stream",
     "text": [
      "100%|██████████| 6748/6748 [00:05<00:00, 1261.40it/s]\n",
      "100%|██████████| 6748/6748 [00:06<00:00, 1047.19it/s]\n",
      "100%|██████████| 6748/6748 [00:06<00:00, 1008.00it/s]\n",
      "\u001b[32m[I 2023-03-12 09:52:20,820]\u001b[0m Trial 73 finished with value: 0.5033319288012009 and parameters: {'threhold1': 0.9559702854373882, 'threhold2': 0.6897505149202342, 'threhold3': 0.6256285279034384, 'weight1': 0.4221007587103303, 'weight2': 0.527349523859521, 'weight3': 0.18216237642160266}. Best is trial 70 with value: 0.50506165580307.\u001b[0m\n"
     ]
    },
    {
     "name": "stdout",
     "output_type": "stream",
     "text": [
      "dict_values([0.4197542074189913, 0.5565344700825661, 0.26367241905735983])\n"
     ]
    },
    {
     "name": "stderr",
     "output_type": "stream",
     "text": [
      "100%|██████████| 6748/6748 [00:05<00:00, 1243.18it/s]\n",
      "100%|██████████| 6748/6748 [00:06<00:00, 1030.98it/s]\n",
      "100%|██████████| 6748/6748 [00:06<00:00, 1049.85it/s]\n",
      "\u001b[32m[I 2023-03-12 09:52:42,265]\u001b[0m Trial 74 finished with value: 0.5043786914993604 and parameters: {'threhold1': 0.95292767670939, 'threhold2': 0.6883748105133412, 'threhold3': 0.6323487200654858, 'weight1': 0.4197542074189913, 'weight2': 0.5565344700825661, 'weight3': 0.26367241905735983}. Best is trial 70 with value: 0.50506165580307.\u001b[0m\n"
     ]
    },
    {
     "name": "stdout",
     "output_type": "stream",
     "text": [
      "dict_values([0.4283384194883536, 0.5531266952994488, 0.2588507969904774])\n"
     ]
    },
    {
     "name": "stderr",
     "output_type": "stream",
     "text": [
      "100%|██████████| 6748/6748 [00:05<00:00, 1263.19it/s]\n",
      "100%|██████████| 6748/6748 [00:06<00:00, 1052.22it/s]\n",
      "100%|██████████| 6748/6748 [00:06<00:00, 1006.55it/s]\n",
      "\u001b[32m[I 2023-03-12 09:53:03,504]\u001b[0m Trial 75 finished with value: 0.5043189730212101 and parameters: {'threhold1': 0.9568514275175807, 'threhold2': 0.6873498519127276, 'threhold3': 0.6274687367807219, 'weight1': 0.4283384194883536, 'weight2': 0.5531266952994488, 'weight3': 0.2588507969904774}. Best is trial 70 with value: 0.50506165580307.\u001b[0m\n"
     ]
    },
    {
     "name": "stdout",
     "output_type": "stream",
     "text": [
      "dict_values([0.42664367809027515, 0.5589635608481233, 0.2790609061209425])\n"
     ]
    },
    {
     "name": "stderr",
     "output_type": "stream",
     "text": [
      "100%|██████████| 6748/6748 [00:05<00:00, 1245.21it/s]\n",
      "100%|██████████| 6748/6748 [00:06<00:00, 1049.46it/s]\n",
      "100%|██████████| 6748/6748 [00:06<00:00, 1051.33it/s]\n",
      "\u001b[32m[I 2023-03-12 09:53:24,755]\u001b[0m Trial 76 finished with value: 0.5033323493126103 and parameters: {'threhold1': 0.9545544068060635, 'threhold2': 0.6865211255045789, 'threhold3': 0.6004729306423678, 'weight1': 0.42664367809027515, 'weight2': 0.5589635608481233, 'weight3': 0.2790609061209425}. Best is trial 70 with value: 0.50506165580307.\u001b[0m\n"
     ]
    },
    {
     "name": "stdout",
     "output_type": "stream",
     "text": [
      "dict_values([0.4124300468636768, 0.5540072915552869, 0.2689183333198395])\n"
     ]
    },
    {
     "name": "stderr",
     "output_type": "stream",
     "text": [
      "100%|██████████| 6748/6748 [00:05<00:00, 1247.04it/s]\n",
      "100%|██████████| 6748/6748 [00:06<00:00, 1060.38it/s]\n",
      "100%|██████████| 6748/6748 [00:06<00:00, 1013.34it/s]\n",
      "\u001b[32m[I 2023-03-12 09:53:46,123]\u001b[0m Trial 77 finished with value: 0.5013777015997641 and parameters: {'threhold1': 0.9549174177541511, 'threhold2': 0.7335530630796012, 'threhold3': 0.5937780832064111, 'weight1': 0.4124300468636768, 'weight2': 0.5540072915552869, 'weight3': 0.2689183333198395}. Best is trial 70 with value: 0.50506165580307.\u001b[0m\n"
     ]
    },
    {
     "name": "stdout",
     "output_type": "stream",
     "text": [
      "dict_values([0.44992573499955063, 0.5634183596518317, 0.2894293252689817])\n"
     ]
    },
    {
     "name": "stderr",
     "output_type": "stream",
     "text": [
      "100%|██████████| 6748/6748 [00:05<00:00, 1310.31it/s]\n",
      "100%|██████████| 6748/6748 [00:06<00:00, 1074.21it/s]\n",
      "100%|██████████| 6748/6748 [00:06<00:00, 1049.13it/s]\n",
      "\u001b[32m[I 2023-03-12 09:54:06,875]\u001b[0m Trial 78 finished with value: 0.5026605680666894 and parameters: {'threhold1': 0.9917478280358257, 'threhold2': 0.7121386655264573, 'threhold3': 0.6050589792599402, 'weight1': 0.44992573499955063, 'weight2': 0.5634183596518317, 'weight3': 0.2894293252689817}. Best is trial 70 with value: 0.50506165580307.\u001b[0m\n"
     ]
    },
    {
     "name": "stdout",
     "output_type": "stream",
     "text": [
      "dict_values([0.3892762827868199, 0.5769875732035732, 0.2493107997037506])\n"
     ]
    },
    {
     "name": "stderr",
     "output_type": "stream",
     "text": [
      "100%|██████████| 6748/6748 [00:05<00:00, 1349.38it/s]\n",
      "100%|██████████| 6748/6748 [00:06<00:00, 1030.16it/s]\n",
      "100%|██████████| 6748/6748 [00:06<00:00, 1024.53it/s]\n",
      "\u001b[32m[I 2023-03-12 09:54:27,872]\u001b[0m Trial 79 finished with value: 0.5032241989746877 and parameters: {'threhold1': 0.9789451866441311, 'threhold2': 0.6849527277631414, 'threhold3': 0.635901026632936, 'weight1': 0.3892762827868199, 'weight2': 0.5769875732035732, 'weight3': 0.2493107997037506}. Best is trial 70 with value: 0.50506165580307.\u001b[0m\n"
     ]
    },
    {
     "name": "stdout",
     "output_type": "stream",
     "text": [
      "dict_values([0.4216949460952043, 0.5332293980022136, 0.23450241158036994])\n"
     ]
    },
    {
     "name": "stderr",
     "output_type": "stream",
     "text": [
      "100%|██████████| 6748/6748 [00:04<00:00, 1374.42it/s]\n",
      "100%|██████████| 6748/6748 [00:06<00:00, 1053.85it/s]\n",
      "100%|██████████| 6748/6748 [00:06<00:00, 1013.19it/s]\n",
      "\u001b[32m[I 2023-03-12 09:54:48,738]\u001b[0m Trial 80 finished with value: 0.49897244119049927 and parameters: {'threhold1': 0.9997890184593256, 'threhold2': 0.7052554510112624, 'threhold3': 0.5766228223038267, 'weight1': 0.4216949460952043, 'weight2': 0.5332293980022136, 'weight3': 0.23450241158036994}. Best is trial 70 with value: 0.50506165580307.\u001b[0m\n"
     ]
    },
    {
     "name": "stdout",
     "output_type": "stream",
     "text": [
      "dict_values([0.4347686572906218, 0.5225687948510437, 0.2179388486858967])\n"
     ]
    },
    {
     "name": "stderr",
     "output_type": "stream",
     "text": [
      "100%|██████████| 6748/6748 [00:05<00:00, 1194.69it/s]\n",
      "100%|██████████| 6748/6748 [00:06<00:00, 1034.64it/s]\n",
      "100%|██████████| 6748/6748 [00:06<00:00, 1050.59it/s]\n",
      "\u001b[32m[I 2023-03-12 09:55:10,083]\u001b[0m Trial 81 finished with value: 0.5041351302725955 and parameters: {'threhold1': 0.952397146767177, 'threhold2': 0.6873822894084087, 'threhold3': 0.6267898777937906, 'weight1': 0.4347686572906218, 'weight2': 0.5225687948510437, 'weight3': 0.2179388486858967}. Best is trial 70 with value: 0.50506165580307.\u001b[0m\n"
     ]
    },
    {
     "name": "stdout",
     "output_type": "stream",
     "text": [
      "dict_values([0.43785170695053877, 0.5453784548099609, 0.21718922337380286])\n"
     ]
    },
    {
     "name": "stderr",
     "output_type": "stream",
     "text": [
      "100%|██████████| 6748/6748 [00:05<00:00, 1312.05it/s]\n",
      "100%|██████████| 6748/6748 [00:06<00:00, 1065.80it/s]\n",
      "100%|██████████| 6748/6748 [00:06<00:00, 1041.16it/s]\n",
      "\u001b[32m[I 2023-03-12 09:55:30,992]\u001b[0m Trial 82 finished with value: 0.5020762682598675 and parameters: {'threhold1': 0.9748957778440791, 'threhold2': 0.6920616115483939, 'threhold3': 0.6046840010619158, 'weight1': 0.43785170695053877, 'weight2': 0.5453784548099609, 'weight3': 0.21718922337380286}. Best is trial 70 with value: 0.50506165580307.\u001b[0m\n"
     ]
    },
    {
     "name": "stdout",
     "output_type": "stream",
     "text": [
      "dict_values([0.4639149014723264, 0.5244083041564912, 0.20143013259251544])\n"
     ]
    },
    {
     "name": "stderr",
     "output_type": "stream",
     "text": [
      "100%|██████████| 6748/6748 [00:05<00:00, 1201.53it/s]\n",
      "100%|██████████| 6748/6748 [00:06<00:00, 1056.88it/s]\n",
      "100%|██████████| 6748/6748 [00:06<00:00, 1041.20it/s]\n",
      "\u001b[32m[I 2023-03-12 09:55:52,475]\u001b[0m Trial 83 finished with value: 0.5044798496970679 and parameters: {'threhold1': 0.9500080090700972, 'threhold2': 0.6781840214426326, 'threhold3': 0.6383834960593352, 'weight1': 0.4639149014723264, 'weight2': 0.5244083041564912, 'weight3': 0.20143013259251544}. Best is trial 70 with value: 0.50506165580307.\u001b[0m\n"
     ]
    },
    {
     "name": "stdout",
     "output_type": "stream",
     "text": [
      "dict_values([0.4619500570588431, 0.5207705795735666, 0.24573771803153463])\n"
     ]
    },
    {
     "name": "stderr",
     "output_type": "stream",
     "text": [
      "100%|██████████| 6748/6748 [00:05<00:00, 1181.49it/s]\n",
      "100%|██████████| 6748/6748 [00:06<00:00, 1052.51it/s]\n",
      "100%|██████████| 6748/6748 [00:06<00:00, 1043.73it/s]\n",
      "\u001b[32m[I 2023-03-12 09:56:14,017]\u001b[0m Trial 84 finished with value: 0.5047887431462138 and parameters: {'threhold1': 0.9399490047766088, 'threhold2': 0.7030480311627589, 'threhold3': 0.6401003116087463, 'weight1': 0.4619500570588431, 'weight2': 0.5207705795735666, 'weight3': 0.24573771803153463}. Best is trial 70 with value: 0.50506165580307.\u001b[0m\n"
     ]
    },
    {
     "name": "stdout",
     "output_type": "stream",
     "text": [
      "dict_values([0.4581079177537005, 0.5302317153798448, 0.24886594763150657])\n"
     ]
    },
    {
     "name": "stderr",
     "output_type": "stream",
     "text": [
      "100%|██████████| 6748/6748 [00:05<00:00, 1221.11it/s]\n",
      "100%|██████████| 6748/6748 [00:06<00:00, 1041.39it/s]\n",
      "100%|██████████| 6748/6748 [00:06<00:00, 1035.64it/s]\n",
      "\u001b[32m[I 2023-03-12 09:56:35,715]\u001b[0m Trial 85 finished with value: 0.5052167552825958 and parameters: {'threhold1': 0.9465274530784646, 'threhold2': 0.6742788970530483, 'threhold3': 0.6407275414370033, 'weight1': 0.4581079177537005, 'weight2': 0.5302317153798448, 'weight3': 0.24886594763150657}. Best is trial 85 with value: 0.5052167552825958.\u001b[0m\n"
     ]
    },
    {
     "name": "stdout",
     "output_type": "stream",
     "text": [
      "dict_values([0.44512429730473285, 0.5296625797137228, 0.2503651450499123])\n"
     ]
    },
    {
     "name": "stderr",
     "output_type": "stream",
     "text": [
      "100%|██████████| 6748/6748 [00:05<00:00, 1192.42it/s]\n",
      "100%|██████████| 6748/6748 [00:06<00:00, 1069.70it/s]\n",
      "100%|██████████| 6748/6748 [00:06<00:00, 1061.29it/s]\n",
      "\u001b[32m[I 2023-03-12 09:56:56,953]\u001b[0m Trial 86 finished with value: 0.5042224151026576 and parameters: {'threhold1': 0.942317051348472, 'threhold2': 0.7116486967062358, 'threhold3': 0.6399030474261622, 'weight1': 0.44512429730473285, 'weight2': 0.5296625797137228, 'weight3': 0.2503651450499123}. Best is trial 85 with value: 0.5052167552825958.\u001b[0m\n"
     ]
    },
    {
     "name": "stdout",
     "output_type": "stream",
     "text": [
      "dict_values([0.40614333903812677, 0.5285661077820396, 0.241053146790509])\n"
     ]
    },
    {
     "name": "stderr",
     "output_type": "stream",
     "text": [
      "100%|██████████| 6748/6748 [00:05<00:00, 1221.55it/s]\n",
      "100%|██████████| 6748/6748 [00:06<00:00, 1046.97it/s]\n",
      "100%|██████████| 6748/6748 [00:06<00:00, 1020.50it/s]\n",
      "\u001b[32m[I 2023-03-12 09:57:18,514]\u001b[0m Trial 87 finished with value: 0.5038419341850249 and parameters: {'threhold1': 0.9446774083049359, 'threhold2': 0.7113949295295687, 'threhold3': 0.635581380811139, 'weight1': 0.40614333903812677, 'weight2': 0.5285661077820396, 'weight3': 0.241053146790509}. Best is trial 85 with value: 0.5052167552825958.\u001b[0m\n"
     ]
    },
    {
     "name": "stdout",
     "output_type": "stream",
     "text": [
      "dict_values([0.44201237655215664, 0.5750627508353636, 0.26135742984270094])\n"
     ]
    },
    {
     "name": "stderr",
     "output_type": "stream",
     "text": [
      "100%|██████████| 6748/6748 [00:05<00:00, 1151.32it/s]\n",
      "100%|██████████| 6748/6748 [00:06<00:00, 1044.52it/s]\n",
      "100%|██████████| 6748/6748 [00:06<00:00, 1002.06it/s]\n",
      "\u001b[32m[I 2023-03-12 09:57:40,182]\u001b[0m Trial 88 finished with value: 0.5020373908123424 and parameters: {'threhold1': 0.9255893597145767, 'threhold2': 0.7388389102602463, 'threhold3': 0.6149123967652685, 'weight1': 0.44201237655215664, 'weight2': 0.5750627508353636, 'weight3': 0.26135742984270094}. Best is trial 85 with value: 0.5052167552825958.\u001b[0m\n"
     ]
    },
    {
     "name": "stdout",
     "output_type": "stream",
     "text": [
      "dict_values([0.5004013739930929, 0.540261225118705, 0.3143872941325543])\n"
     ]
    },
    {
     "name": "stderr",
     "output_type": "stream",
     "text": [
      "100%|██████████| 6748/6748 [00:05<00:00, 1311.18it/s]\n",
      "100%|██████████| 6748/6748 [00:06<00:00, 1052.76it/s]\n",
      "100%|██████████| 6748/6748 [00:06<00:00, 1066.05it/s]\n",
      "\u001b[32m[I 2023-03-12 09:58:01,041]\u001b[0m Trial 89 finished with value: 0.5032700697806202 and parameters: {'threhold1': 0.9776789790781897, 'threhold2': 0.7220582050584884, 'threhold3': 0.6425731506407352, 'weight1': 0.5004013739930929, 'weight2': 0.540261225118705, 'weight3': 0.3143872941325543}. Best is trial 85 with value: 0.5052167552825958.\u001b[0m\n"
     ]
    },
    {
     "name": "stdout",
     "output_type": "stream",
     "text": [
      "dict_values([0.45269235284008896, 0.5246749376752003, 0.29713995779764024])\n"
     ]
    },
    {
     "name": "stderr",
     "output_type": "stream",
     "text": [
      "100%|██████████| 6748/6748 [00:05<00:00, 1217.95it/s]\n",
      "100%|██████████| 6748/6748 [00:06<00:00, 1057.10it/s]\n",
      "100%|██████████| 6748/6748 [00:06<00:00, 1029.96it/s]\n",
      "\u001b[32m[I 2023-03-12 09:58:22,251]\u001b[0m Trial 90 finished with value: 0.5046681106913882 and parameters: {'threhold1': 0.9382996513394274, 'threhold2': 0.7041832128489841, 'threhold3': 0.6565680427702156, 'weight1': 0.45269235284008896, 'weight2': 0.5246749376752003, 'weight3': 0.29713995779764024}. Best is trial 85 with value: 0.5052167552825958.\u001b[0m\n"
     ]
    },
    {
     "name": "stdout",
     "output_type": "stream",
     "text": [
      "dict_values([0.45446613110622824, 0.523084155279258, 0.2998645999205649])\n"
     ]
    },
    {
     "name": "stderr",
     "output_type": "stream",
     "text": [
      "100%|██████████| 6748/6748 [00:05<00:00, 1237.71it/s]\n",
      "100%|██████████| 6748/6748 [00:06<00:00, 1053.17it/s]\n",
      "100%|██████████| 6748/6748 [00:06<00:00, 1063.44it/s]\n",
      "\u001b[32m[I 2023-03-12 09:58:43,484]\u001b[0m Trial 91 finished with value: 0.5047950898746519 and parameters: {'threhold1': 0.9416561887224575, 'threhold2': 0.702569539468202, 'threhold3': 0.6544765987409678, 'weight1': 0.45446613110622824, 'weight2': 0.523084155279258, 'weight3': 0.2998645999205649}. Best is trial 85 with value: 0.5052167552825958.\u001b[0m\n"
     ]
    },
    {
     "name": "stdout",
     "output_type": "stream",
     "text": [
      "dict_values([0.4330107962658575, 0.5241094964205751, 0.2935729464775651])\n"
     ]
    },
    {
     "name": "stderr",
     "output_type": "stream",
     "text": [
      "100%|██████████| 6748/6748 [00:05<00:00, 1211.01it/s]\n",
      "100%|██████████| 6748/6748 [00:06<00:00, 1049.75it/s]\n",
      "100%|██████████| 6748/6748 [00:06<00:00, 1044.19it/s]\n",
      "\u001b[32m[I 2023-03-12 09:59:04,859]\u001b[0m Trial 92 finished with value: 0.5051364531356374 and parameters: {'threhold1': 0.9355997312437775, 'threhold2': 0.7031052191869251, 'threhold3': 0.6591266870517639, 'weight1': 0.4330107962658575, 'weight2': 0.5241094964205751, 'weight3': 0.2935729464775651}. Best is trial 85 with value: 0.5052167552825958.\u001b[0m\n"
     ]
    },
    {
     "name": "stdout",
     "output_type": "stream",
     "text": [
      "dict_values([0.41602530407781235, 0.5996902830990684, 0.291672525896557])\n"
     ]
    },
    {
     "name": "stderr",
     "output_type": "stream",
     "text": [
      "100%|██████████| 6748/6748 [00:05<00:00, 1203.03it/s]\n",
      "100%|██████████| 6748/6748 [00:06<00:00, 1033.42it/s]\n",
      "100%|██████████| 6748/6748 [00:06<00:00, 1016.40it/s]\n",
      "\u001b[32m[I 2023-03-12 09:59:26,520]\u001b[0m Trial 93 finished with value: 0.5044934049828952 and parameters: {'threhold1': 0.9339206585454446, 'threhold2': 0.7026312610783423, 'threhold3': 0.6621895276036022, 'weight1': 0.41602530407781235, 'weight2': 0.5996902830990684, 'weight3': 0.291672525896557}. Best is trial 85 with value: 0.5052167552825958.\u001b[0m\n"
     ]
    },
    {
     "name": "stdout",
     "output_type": "stream",
     "text": [
      "dict_values([0.40018598075130696, 0.5655458318797434, 0.29679733077369796])\n"
     ]
    },
    {
     "name": "stderr",
     "output_type": "stream",
     "text": [
      "100%|██████████| 6748/6748 [00:05<00:00, 1186.72it/s]\n",
      "100%|██████████| 6748/6748 [00:06<00:00, 1023.04it/s]\n",
      "100%|██████████| 6748/6748 [00:06<00:00, 1041.15it/s]\n",
      "\u001b[32m[I 2023-03-12 09:59:47,929]\u001b[0m Trial 94 finished with value: 0.5049772530029164 and parameters: {'threhold1': 0.9328628918375291, 'threhold2': 0.6992443443756654, 'threhold3': 0.6574919636722223, 'weight1': 0.40018598075130696, 'weight2': 0.5655458318797434, 'weight3': 0.29679733077369796}. Best is trial 85 with value: 0.5052167552825958.\u001b[0m\n"
     ]
    },
    {
     "name": "stdout",
     "output_type": "stream",
     "text": [
      "dict_values([0.3941363812705748, 0.5993966284359262, 0.29931282261091635])\n"
     ]
    },
    {
     "name": "stderr",
     "output_type": "stream",
     "text": [
      "100%|██████████| 6748/6748 [00:05<00:00, 1194.38it/s]\n",
      "100%|██████████| 6748/6748 [00:06<00:00, 1029.46it/s]\n",
      "100%|██████████| 6748/6748 [00:06<00:00, 1047.66it/s]\n",
      "\u001b[32m[I 2023-03-12 10:00:09,409]\u001b[0m Trial 95 finished with value: 0.5042799884539734 and parameters: {'threhold1': 0.923837257771027, 'threhold2': 0.7030424415504569, 'threhold3': 0.658955544717091, 'weight1': 0.3941363812705748, 'weight2': 0.5993966284359262, 'weight3': 0.29931282261091635}. Best is trial 85 with value: 0.5052167552825958.\u001b[0m\n"
     ]
    },
    {
     "name": "stdout",
     "output_type": "stream",
     "text": [
      "dict_values([0.4153822582278698, 0.583165765146478, 0.33092246257771263])\n"
     ]
    },
    {
     "name": "stderr",
     "output_type": "stream",
     "text": [
      "100%|██████████| 6748/6748 [00:05<00:00, 1216.23it/s]\n",
      "100%|██████████| 6748/6748 [00:06<00:00, 1057.02it/s]\n",
      "100%|██████████| 6748/6748 [00:06<00:00, 1041.56it/s]\n",
      "\u001b[32m[I 2023-03-12 10:00:30,694]\u001b[0m Trial 96 finished with value: 0.5016390062409014 and parameters: {'threhold1': 0.9344491400390261, 'threhold2': 0.7452076849708706, 'threhold3': 0.6534948106777302, 'weight1': 0.4153822582278698, 'weight2': 0.583165765146478, 'weight3': 0.33092246257771263}. Best is trial 85 with value: 0.5052167552825958.\u001b[0m\n"
     ]
    },
    {
     "name": "stdout",
     "output_type": "stream",
     "text": [
      "dict_values([0.381725873763685, 0.5661815528311368, 0.2749150556028202])\n"
     ]
    },
    {
     "name": "stderr",
     "output_type": "stream",
     "text": [
      "100%|██████████| 6748/6748 [00:05<00:00, 1163.41it/s]\n",
      "100%|██████████| 6748/6748 [00:06<00:00, 1047.23it/s]\n",
      "100%|██████████| 6748/6748 [00:06<00:00, 1063.31it/s]\n",
      "\u001b[32m[I 2023-03-12 10:00:52,267]\u001b[0m Trial 97 finished with value: 0.5044247671388321 and parameters: {'threhold1': 0.9029734669019351, 'threhold2': 0.6718341815956914, 'threhold3': 0.6659718374803524, 'weight1': 0.381725873763685, 'weight2': 0.5661815528311368, 'weight3': 0.2749150556028202}. Best is trial 85 with value: 0.5052167552825958.\u001b[0m\n"
     ]
    },
    {
     "name": "stdout",
     "output_type": "stream",
     "text": [
      "dict_values([0.3802504922697453, 0.5848057224433342, 0.2870380031928277])\n"
     ]
    },
    {
     "name": "stderr",
     "output_type": "stream",
     "text": [
      "100%|██████████| 6748/6748 [00:05<00:00, 1157.48it/s]\n",
      "100%|██████████| 6748/6748 [00:06<00:00, 1043.77it/s]\n",
      "100%|██████████| 6748/6748 [00:06<00:00, 1028.66it/s]\n",
      "\u001b[32m[I 2023-03-12 10:01:13,803]\u001b[0m Trial 98 finished with value: 0.5043062792769265 and parameters: {'threhold1': 0.9014708324243452, 'threhold2': 0.6711190599643078, 'threhold3': 0.6649588241379708, 'weight1': 0.3802504922697453, 'weight2': 0.5848057224433342, 'weight3': 0.2870380031928277}. Best is trial 85 with value: 0.5052167552825958.\u001b[0m\n"
     ]
    },
    {
     "name": "stdout",
     "output_type": "stream",
     "text": [
      "dict_values([0.39400580457540646, 0.5685714165103455, 0.3209335871940521])\n"
     ]
    },
    {
     "name": "stderr",
     "output_type": "stream",
     "text": [
      "100%|██████████| 6748/6748 [00:05<00:00, 1190.04it/s]\n",
      "100%|██████████| 6748/6748 [00:06<00:00, 1027.90it/s]\n",
      "100%|██████████| 6748/6748 [00:06<00:00, 1058.41it/s]\n",
      "\u001b[32m[I 2023-03-12 10:01:35,105]\u001b[0m Trial 99 finished with value: 0.5032510206955392 and parameters: {'threhold1': 0.9402979557558582, 'threhold2': 0.7223813129140986, 'threhold3': 0.6701975242395859, 'weight1': 0.39400580457540646, 'weight2': 0.5685714165103455, 'weight3': 0.3209335871940521}. Best is trial 85 with value: 0.5052167552825958.\u001b[0m\n"
     ]
    }
   ],
   "source": [
    "import optuna\n",
    "study = optuna.create_study(direction=\"maximize\") \n",
    "study.optimize(objective, 100)"
   ]
  },
  {
   "cell_type": "code",
   "execution_count": 27,
   "metadata": {},
   "outputs": [
    {
     "data": {
      "text/plain": [
       "{'threhold1': 0.9465274530784646,\n",
       " 'threhold2': 0.6742788970530483,\n",
       " 'threhold3': 0.6407275414370033,\n",
       " 'weight1': 0.4581079177537005,\n",
       " 'weight2': 0.5302317153798448,\n",
       " 'weight3': 0.24886594763150657}"
      ]
     },
     "execution_count": 27,
     "metadata": {},
     "output_type": "execute_result"
    }
   ],
   "source": [
    "study.best_params"
   ]
  },
  {
   "cell_type": "code",
   "execution_count": null,
   "metadata": {},
   "outputs": [],
   "source": []
  }
 ],
 "metadata": {
  "kernelspec": {
   "display_name": "Python 3",
   "language": "python",
   "name": "python3"
  },
  "language_info": {
   "codemirror_mode": {
    "name": "ipython",
    "version": 3
   },
   "file_extension": ".py",
   "mimetype": "text/x-python",
   "name": "python",
   "nbconvert_exporter": "python",
   "pygments_lexer": "ipython3",
   "version": "3.9.16"
  },
  "orig_nbformat": 4,
  "vscode": {
   "interpreter": {
    "hash": "916dbcbb3f70747c44a77c7bcd40155683ae19c65e1c03b4aa3499c5328201f1"
   }
  }
 },
 "nbformat": 4,
 "nbformat_minor": 2
}
